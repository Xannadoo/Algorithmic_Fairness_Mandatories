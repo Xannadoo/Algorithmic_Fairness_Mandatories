{
 "cells": [
  {
   "attachments": {},
   "cell_type": "markdown",
   "metadata": {},
   "source": [
    "# Algorithmic Fairness, Accountability, and Ethics, Spring 2024\n",
    "\n",
    "## Mandatory Assignment 1\n",
    "\n",
    "Please use the following code to prepare the dataset.\n",
    " "
   ]
  },
  {
   "cell_type": "code",
   "execution_count": 118,
   "metadata": {},
   "outputs": [],
   "source": [
    "from folktables.acs import adult_filter\n",
    "from folktables import ACSDataSource\n",
    "import numpy as np\n",
    "import pandas as pd\n",
    "from sklearn.model_selection import train_test_split\n",
    "\n",
    "\n",
    "data_source = ACSDataSource(survey_year='2018', horizon='1-Year', survey='person')\n",
    "acs_data = data_source.get_data(states=[\"CA\"], download=False)\n",
    "\n",
    "feature_names = ['AGEP', # Age\n",
    "                 \"CIT\", # Citizenship status\n",
    "                 'COW', # Class of worker\n",
    "                 \"ENG\", # Ability to speak English\n",
    "                 'SCHL', # Educational attainment\n",
    "                 'MAR', # Marital status\n",
    "                 \"HINS1\", # Insurance through a current or former employer or union\n",
    "                 \"HINS2\", # Insurance purchased directly from an insurance company\n",
    "                 \"HINS4\", # Medicaid\n",
    "                 \"RAC1P\", # Recoded detailed race code\n",
    "                 'SEX']\n",
    "\n",
    "target_name = \"PINCP\" # Total person's income\n",
    "\n",
    "def data_processing(data, features, target_name:str, threshold: float = 35000):\n",
    "    df = data\n",
    "    ### Adult Filter (STARTS) (from Foltktables)\n",
    "    df = df[~df[\"SEX\"].isnull()]\n",
    "    df = df[~df[\"RAC1P\"].isnull()]\n",
    "    df = df[df['AGEP'] > 16]\n",
    "    df = df[df['PINCP'] > 100]\n",
    "    df = df[df['WKHP'] > 0]\n",
    "    df = df[df['PWGTP'] >= 1]\n",
    "    ### Adult Filter (ENDS)\n",
    "    ### Groups of interest\n",
    "    sex = df[\"SEX\"].values\n",
    "    ### Target\n",
    "    df[\"target\"] = df[target_name] > threshold\n",
    "    target = df[\"target\"].values\n",
    "    df = df[features + [\"target\", target_name]] ##we want to keep df before one_hot encoding to make Bias Analysis\n",
    "    df_processed = df[features].copy()\n",
    "    cols = [ \"HINS1\", \"HINS2\", \"HINS4\", \"CIT\", \"COW\", \"SCHL\", \"MAR\", \"SEX\", \"RAC1P\"]\n",
    "    df_processed = pd.get_dummies(df_processed, prefix=None, prefix_sep='_', dummy_na=False, columns=cols)#, drop_first=True)\n",
    "    df_processed = pd.get_dummies(df_processed, prefix=None, prefix_sep='_', dummy_na=True, columns=[\"ENG\"])#, drop_first=True)\n",
    "    return df_processed, df, target, sex\n",
    "\n",
    "data, data_original, target, group = data_processing(acs_data, feature_names, target_name)\n",
    "\n",
    "X_train, X_test, y_train, y_test, group_train, group_test = train_test_split(\n",
    "    data, target, group, test_size=0.2, random_state=0)"
   ]
  },
  {
   "cell_type": "code",
   "execution_count": 119,
   "metadata": {},
   "outputs": [],
   "source": [
    "## Imports\n",
    "from sklearn.linear_model import LogisticRegression\n",
    "from sklearn.ensemble import RandomForestClassifier\n",
    "\n",
    "from sklearn.compose import ColumnTransformer \n",
    "from sklearn.preprocessing import StandardScaler, MinMaxScaler\n",
    "\n",
    "from sklearn.metrics import confusion_matrix, roc_curve\n",
    "\n",
    "import matplotlib.pyplot as plt\n",
    "import seaborn as sns\n",
    "\n",
    "#Set seed\n",
    "seed = 23\n",
    "\n",
    "#set colormap\n",
    "sns.set_palette(palette=\"magma\")"
   ]
  },
  {
   "cell_type": "markdown",
   "metadata": {},
   "source": [
    "## Task 1 (Classifiers and fairness considerations)  \n",
    "1. Starting from the template, train two different classifiers on the training data: a white-box \n",
    "model using logistic regression, and a black-box model using a random forest. Consider \n",
    "feature engineering and scaling steps necessary for some of these classifiers and summarize \n",
    "the necessary changes in your report. For both models, report on the accuracy of the \n",
    "classifier on the test set."
   ]
  },
  {
   "cell_type": "markdown",
   "metadata": {},
   "source": [
    "### Preprocessing"
   ]
  },
  {
   "cell_type": "code",
   "execution_count": 120,
   "metadata": {},
   "outputs": [],
   "source": [
    "#One one column left that is not boolean, AGEP.\n",
    "#We scale this to between 0-1 because the penalty term is sensitive to scale. I think.\n",
    "    \n",
    "column_trans = ColumnTransformer(\n",
    "    [('scaler', MinMaxScaler(),['AGEP'])], \n",
    "    remainder='passthrough')\n",
    "\n",
    "column_trans.fit(X_train) #Use the training data only to fit the scaler.\n",
    "\n",
    "X_train.AGEP = column_trans.transform(X_train)[:,0]\n",
    "\n",
    "X_test.AGEP = column_trans.transform(X_test)[:,0] #Fit both train and test using the fitted scaler."
   ]
  },
  {
   "cell_type": "markdown",
   "metadata": {},
   "source": [
    "### Logistic Regression Model: white box"
   ]
  },
  {
   "cell_type": "code",
   "execution_count": 121,
   "metadata": {},
   "outputs": [],
   "source": [
    "LRclf = LogisticRegression(max_iter=5000, \n",
    "                            penalty='l2', \n",
    "                            C=0.98497534359086438, \n",
    "                            tol=1e-4,\n",
    "                            solver='saga', \n",
    "                            random_state=seed)\n",
    "LRclf.fit(X_train, y_train)\n",
    "LR_score = LRclf.score(X_test, y_test)"
   ]
  },
  {
   "cell_type": "markdown",
   "metadata": {},
   "source": [
    "### Random Forest Model: black box"
   ]
  },
  {
   "cell_type": "code",
   "execution_count": 122,
   "metadata": {},
   "outputs": [],
   "source": [
    "RFclf = RandomForestClassifier(max_depth=2, \n",
    "                                random_state=seed, \n",
    "                                n_jobs=-1, \n",
    "                                n_estimators=200)\n",
    "RFclf.fit(X_train, y_train)\n",
    "RF_score = RFclf.score(X_test, y_test)"
   ]
  },
  {
   "cell_type": "code",
   "execution_count": 123,
   "metadata": {},
   "outputs": [
    {
     "name": "stdout",
     "output_type": "stream",
     "text": [
      "Logistic Reg  score: 0.77\n",
      "Random Forest score: 0.75\n"
     ]
    }
   ],
   "source": [
    "print(f'Logistic Reg  score: {LR_score:.2}\\nRandom Forest score: {RF_score:.2}')"
   ]
  },
  {
   "cell_type": "markdown",
   "metadata": {},
   "source": [
    "2. For each classifier, measure statistical parity, equalized odds (both in terms of  T = 0  and  T \n",
    "= 1 ), and equality of outcome (both in terms of  S = 0  and  S = 1 ) (Lecture 2). Plot the \n",
    "results and discuss the differences that you observe."
   ]
  },
  {
   "cell_type": "markdown",
   "metadata": {},
   "source": [
    "### Statistical Parity\n",
    "\n",
    "$P(S=1|G=2) = P(S=1|G=1)$\n",
    "\n",
    "### Equalised Odds\n",
    "\n",
    "$P(S=1|G=2, T=1) = P(S=1|G=1, T=1)$\n",
    "\n",
    "$P(S=1|G=2, T=0) = P(S=1|G=1, T=0)$\n",
    "\n",
    "### Equalised Outcomes\n",
    "\n",
    "$P(T=1|G=2, S=1) = P(T=1|G=1, S=1)$\n",
    "\n",
    "$P(T=1|G=2, S=0) = P(T=1|G=1, S=0)$\n",
    "\n",
    "$S$ = Predicted value\n",
    "\n",
    "$T$ = True value (going to use $A$ instead because ```.T``` is a thing in pandas already)\n",
    "\n",
    "$G$ = Group status"
   ]
  },
  {
   "cell_type": "code",
   "execution_count": 124,
   "metadata": {},
   "outputs": [],
   "source": [
    "def make_df(model, X_test):\n",
    "    df = pd.DataFrame(model.predict(X_test), columns=['S'])\n",
    "    df['G'] = group_test\n",
    "    df['A'] = y_test\n",
    "    return df\n",
    "\n",
    "def stat_parity(df):\n",
    "    g1 = sum(df[df.G==1].S)/df[df.G==1].shape[0]\n",
    "    g2 = sum(df[df.G==2].S)/df[df.G==2].shape[0]\n",
    "    return g1, g2\n",
    "\n",
    "def equal_odds(df, target=1):\n",
    "    g1 = sum(df[(df.G==1)&(df.A==target)].S)/df[(df.G==1)&(df.A==target)].shape[0]\n",
    "    g2 = sum(df[(df.G==2)&(df.A==target)].S)/df[(df.G==2)&(df.A==target)].shape[0]\n",
    "\n",
    "    return g1, g2\n",
    "\n",
    "def equal_outcomes(df, s=1):\n",
    "    g1 = sum(df[(df.G==1)&(df.S==s)].A)/df[(df.G==1)&(df.S==s)].shape[0]\n",
    "    g2 = sum(df[(df.G==2)&(df.S==s)].A)/df[(df.G==2)&(df.S==s)].shape[0]\n",
    "\n",
    "    return g1, g2"
   ]
  },
  {
   "cell_type": "code",
   "execution_count": 125,
   "metadata": {},
   "outputs": [
    {
     "data": {
      "image/png": "[encoded data removed]",
      "text/plain": [
       "<Figure size 700x300 with 2 Axes>"
      ]
     },
     "metadata": {},
     "output_type": "display_data"
    }
   ],
   "source": [
    "_, ax = plt.subplots(1,2, figsize=(7,3))\n",
    "cm = confusion_matrix(y_test, LRclf.predict(X_test))\n",
    "sns.heatmap(cm, annot=True, fmt=\".0f\", \n",
    "            xticklabels=['False', 'True'], \n",
    "            yticklabels=['False', 'True'],\n",
    "            ax=ax[0], \n",
    "            cbar=False)\n",
    "\n",
    "ax[0].set_ylabel('True label (T)')\n",
    "ax[0].set_xlabel('Predicted label (S)')\n",
    "ax[0].set_title('Logistic Regression')\n",
    "\n",
    "\n",
    "cm = confusion_matrix(y_test, RFclf.predict(X_test))\n",
    "sns.heatmap(cm, annot=True, fmt=\".0f\", \n",
    "            xticklabels=['False', 'True'], \n",
    "            yticklabels=['False', 'True'],\n",
    "            ax=ax[1], \n",
    "            cbar=False)\n",
    "\n",
    "ax[1].set_xlabel('Predicted label (S)')\n",
    "ax[1].set_title('Random Forest');"
   ]
  },
  {
   "cell_type": "code",
   "execution_count": 126,
   "metadata": {},
   "outputs": [
    {
     "data": {
      "image/png": "[encoded data removed]",
      "text/plain": [
       "<Figure size 700x400 with 3 Axes>"
      ]
     },
     "metadata": {},
     "output_type": "display_data"
    }
   ],
   "source": [
    "res = make_df(LRclf, X_test)\n",
    "\n",
    "G_1 = res[res.G==1]\n",
    "fig, ax = plt.subplots(1,3, figsize=(7,4), gridspec_kw={'width_ratios': [4, 4, 0.5]})\n",
    "cm = confusion_matrix(G_1.A, G_1.S)\n",
    "cm = cm/G_1.shape[0]\n",
    "sns.heatmap(cm, annot=True, fmt=\".1%\", \n",
    "            xticklabels=['False', 'True'], \n",
    "            yticklabels=['False', 'True'],\n",
    "            ax=ax[0],\n",
    "            vmin=0, vmax=.52,\n",
    "            cbar=True,\n",
    "            cbar_ax=ax[2],\n",
    "            square=True)\n",
    "\n",
    "ax[0].set_ylabel('True label (T)')\n",
    "ax[0].set_xlabel('Predicted label (S)')\n",
    "ax[0].set_title('G=1 (Male)')\n",
    "\n",
    "G_2 = res[res.G==2]\n",
    "cm = confusion_matrix(G_2.A, G_2.S)\n",
    "cm = cm/G_2.shape[0]\n",
    "sns.heatmap(cm, annot=True, fmt=\".1%\",\n",
    "            xticklabels=['False', 'True'],\n",
    "            yticklabels=False,\n",
    "            ax=ax[1],\n",
    "            vmin=0, vmax=.52,\n",
    "            cbar=False,\n",
    "            square=True)\n",
    "\n",
    "ax[1].set_xlabel('Predicted label (S)')\n",
    "ax[1].set_title('G=2 (Female)')\n",
    "fig.suptitle('Logistic Regression by group membership')\n",
    "fig.tight_layout();"
   ]
  },
  {
   "cell_type": "code",
   "execution_count": 127,
   "metadata": {},
   "outputs": [
    {
     "data": {
      "image/png": "[encoded data removed]",
      "text/plain": [
       "<Figure size 700x400 with 3 Axes>"
      ]
     },
     "metadata": {},
     "output_type": "display_data"
    }
   ],
   "source": [
    "res = make_df(RFclf, X_test)\n",
    "\n",
    "G_1 = res[res.G==1]\n",
    "fig, ax = plt.subplots(1,3, figsize=(7,4), gridspec_kw={'width_ratios': [4, 4, 0.5]})\n",
    "cm = confusion_matrix(G_1.A, G_1.S)\n",
    "cm = cm/G_1.shape[0]\n",
    "sns.heatmap(cm, annot=True, fmt=\".1%\", \n",
    "            xticklabels=['False', 'True'], \n",
    "            yticklabels=['False', 'True'],\n",
    "            ax=ax[0],\n",
    "            vmin=0, vmax=.56,\n",
    "            cbar=True,\n",
    "            cbar_ax=ax[2],\n",
    "            square=True)\n",
    "\n",
    "ax[0].set_ylabel('True label (T)')\n",
    "ax[0].set_xlabel('Predicted label (S)')\n",
    "ax[0].set_title('G=1 (Male)')\n",
    "\n",
    "G_2 = res[res.G==2]\n",
    "cm = confusion_matrix(G_2.A, G_2.S)\n",
    "cm = cm/G_2.shape[0]\n",
    "sns.heatmap(cm, annot=True, fmt=\".1%\",\n",
    "            xticklabels=['False', 'True'],\n",
    "            yticklabels=False,\n",
    "            ax=ax[1],\n",
    "            vmin=0, vmax=.56,\n",
    "            cbar=False,\n",
    "            square=True)\n",
    "\n",
    "ax[1].set_xlabel('Predicted label (S)')\n",
    "ax[1].set_title('G=2 (Female)')\n",
    "fig.suptitle('Random Forest by group membership')\n",
    "fig.tight_layout();"
   ]
  },
  {
   "cell_type": "code",
   "execution_count": 128,
   "metadata": {},
   "outputs": [
    {
     "name": "stdout",
     "output_type": "stream",
     "text": [
      "Logistic Regression statisical parity check: \n",
      "group1 0.642\n",
      "group2 0.517\n",
      "\n",
      "Random Forest statisical parity check: \n",
      "group1 0.698\n",
      "group2 0.682\n"
     ]
    }
   ],
   "source": [
    "g1, g2 = stat_parity(make_df(LRclf, X_test))\n",
    "\n",
    "print(f'Logistic Regression statisical parity check: \\ngroup1 {g1:.3}\\ngroup2 {g2:.3}')\n",
    "\n",
    "print()\n",
    "g1, g2 = stat_parity(make_df(RFclf, X_test))\n",
    "\n",
    "print(f'Random Forest statisical parity check: \\ngroup1 {g1:.3}\\ngroup2 {g2:.3}')"
   ]
  },
  {
   "cell_type": "code",
   "execution_count": 129,
   "metadata": {},
   "outputs": [
    {
     "name": "stdout",
     "output_type": "stream",
     "text": [
      "Logistic Regression equalised odds check: \n",
      "group1 0.85\n",
      "group2 0.77\n",
      "\n",
      "Random Forest equalised odds check: \n",
      "group1 0.89\n",
      "group2 0.9\n"
     ]
    }
   ],
   "source": [
    "## Target == True\n",
    "\n",
    "g1, g2 = equal_odds(make_df(LRclf, X_test))\n",
    "\n",
    "print(f'Logistic Regression equalised odds check: \\ngroup1 {g1:.2}\\ngroup2 {g2:.2}')\n",
    "\n",
    "print()\n",
    "g1, g2 = equal_odds(make_df(RFclf, X_test))\n",
    "\n",
    "print(f'Random Forest equalised odds check: \\ngroup1 {g1:.2}\\ngroup2 {g2:.2}')"
   ]
  },
  {
   "cell_type": "code",
   "execution_count": 130,
   "metadata": {},
   "outputs": [
    {
     "name": "stdout",
     "output_type": "stream",
     "text": [
      "Logistic Regression equalised odds check: \n",
      "group1 0.32\n",
      "group2 0.27\n",
      "\n"
     ]
    },
    {
     "name": "stdout",
     "output_type": "stream",
     "text": [
      "Random Forest equalised odds check: \n",
      "group1 0.39\n",
      "group2 0.47\n"
     ]
    }
   ],
   "source": [
    "## Target == False\n",
    "\n",
    "g1, g2 = equal_odds(make_df(LRclf, X_test), target=0)\n",
    "\n",
    "print(f'Logistic Regression equalised odds check: \\ngroup1 {g1:.2}\\ngroup2 {g2:.2}')\n",
    "\n",
    "print()\n",
    "g1, g2 = equal_odds(make_df(RFclf, X_test), target=0)\n",
    "\n",
    "print(f'Random Forest equalised odds check: \\ngroup1 {g1:.2}\\ngroup2 {g2:.2}')"
   ]
  },
  {
   "cell_type": "code",
   "execution_count": 131,
   "metadata": {},
   "outputs": [
    {
     "name": "stdout",
     "output_type": "stream",
     "text": [
      "Logistic Regression equalised outcomes check: \n",
      "group1 0.81\n",
      "group2 0.73\n",
      "\n",
      "Random Forest equalised outcomes check: \n",
      "group1 0.78\n",
      "group2 0.65\n"
     ]
    }
   ],
   "source": [
    "## Selected == True\n",
    "\n",
    "g1, g2 = equal_outcomes(make_df(LRclf, X_test))\n",
    "\n",
    "print(f'Logistic Regression equalised outcomes check: \\ngroup1 {g1:.2}\\ngroup2 {g2:.2}')\n",
    "\n",
    "print()\n",
    "g1, g2 = equal_outcomes(make_df(RFclf, X_test))\n",
    "\n",
    "print(f'Random Forest equalised outcomes check: \\ngroup1 {g1:.2}\\ngroup2 {g2:.2}')"
   ]
  },
  {
   "cell_type": "code",
   "execution_count": 132,
   "metadata": {},
   "outputs": [
    {
     "name": "stdout",
     "output_type": "stream",
     "text": [
      "Logistic Regression equalised outcomes check: \n",
      "group1 0.25\n",
      "group2 0.23\n",
      "\n",
      "Random Forest equalised outcomes check: \n",
      "group1 0.22\n",
      "group2 0.15\n"
     ]
    }
   ],
   "source": [
    "## Selected == False\n",
    "\n",
    "g1, g2 = equal_outcomes(make_df(LRclf, X_test), s=0)\n",
    "\n",
    "print(f'Logistic Regression equalised outcomes check: \\ngroup1 {g1:.2}\\ngroup2 {g2:.2}')\n",
    "\n",
    "print()\n",
    "g1, g2 = equal_outcomes(make_df(RFclf, X_test), s=0)\n",
    "\n",
    "print(f'Random Forest equalised outcomes check: \\ngroup1 {g1:.2}\\ngroup2 {g2:.2}')"
   ]
  },
  {
   "cell_type": "markdown",
   "metadata": {},
   "source": [
    "3. Change the classification pipeline to (approximately) fulfill one of the fairness criteria by post-\n",
    "processing the results. How did the intervention influence the different fairness criteria, how \n",
    "did it change the accuracy of the classification?"
   ]
  },
  {
   "cell_type": "code",
   "execution_count": 133,
   "metadata": {},
   "outputs": [
    {
     "data": {
      "text/plain": [
       "(0.851784007645747, 0.7725822422708769)"
      ]
     },
     "execution_count": 133,
     "metadata": {},
     "output_type": "execute_result"
    }
   ],
   "source": [
    "#TPR using method shown in class, used as a sanity check in a moment\n",
    "yhat = LRclf.predict(X_test)\n",
    "group0_tpr = np.mean(yhat[(y_test==1)&(group_test==1)])\n",
    "group1_tpr = np.mean(yhat[(y_test==1)&(group_test==2)])\n",
    "\n",
    "group0_tpr, group1_tpr"
   ]
  },
  {
   "cell_type": "code",
   "execution_count": 134,
   "metadata": {},
   "outputs": [
    {
     "data": {
      "text/plain": [
       "(array([0.85189172]), array([], dtype=float64))"
      ]
     },
     "execution_count": 134,
     "metadata": {},
     "output_type": "execute_result"
    },
    {
     "data": {
      "image/png": "[encoded data removed]",
      "text/plain": [
       "<Figure size 640x480 with 1 Axes>"
      ]
     },
     "metadata": {},
     "output_type": "display_data"
    }
   ],
   "source": [
    "y_true_1 = y_train[group_train==1]\n",
    "scores_1 = LRclf.predict_proba(X_train[group_train==1])[:,1]\n",
    "\n",
    "fpr_1, tpr_1, thresholds_1 = roc_curve(y_true_1, scores_1, pos_label=True)\n",
    "\n",
    "y_true_2 = y_train[group_train==2]\n",
    "scores_2 = LRclf.predict_proba(X_train[group_train==2])[:,1]\n",
    "\n",
    "fpr_2, tpr_2, thresholds_2 = roc_curve(y_true_2, scores_2, pos_label=True)\n",
    "\n",
    "plt.plot(fpr_1, tpr_1)\n",
    "plt.plot(fpr_2, tpr_2)\n",
    "\n",
    "plt.plot(0.45, 0.91, ms=12, \n",
    "        marker='o', alpha=0.3, \n",
    "        label='crossover point', ls='')\n",
    "\n",
    "plt.xlabel('FPR')\n",
    "plt.ylabel('TPR')\n",
    "plt.legend();\n",
    "\n",
    "##Sanity check to make sure this is close enough to the tpr calc'd using method from class\n",
    "tpr_1[(0.49999<thresholds_1)&(thresholds_1<0.50001)], tpr_2[(0.49999<thresholds_2)&(thresholds_2<0.50001)]"
   ]
  },
  {
   "cell_type": "code",
   "execution_count": 135,
   "metadata": {},
   "outputs": [
    {
     "data": {
      "image/png": "[encoded data removed]",
      "text/plain": [
       "<Figure size 700x500 with 1 Axes>"
      ]
     },
     "metadata": {},
     "output_type": "display_data"
    }
   ],
   "source": [
    "#plot the difference between the TPR and the FPR \n",
    "#for the two groups at different thresholds\n",
    "#We want to choose a threshold for each group that\n",
    "#makes the FPRs and TPRs as close as possible for each group\n",
    "#as this will equalise the odds across the groups\n",
    "\n",
    "tpr_diff = []\n",
    "fpr_diff = []\n",
    "thresholds = []\n",
    "for p in np.arange(0.3, 0.99, 0.005):\n",
    "    #print(f'\\n{p}')\n",
    "    tpr_diff.append(abs(tpr_1[tpr_1>p][0] - tpr_2[tpr_2>p][0]))\n",
    "    fpr_diff.append(abs(fpr_1[tpr_1>p][0] - fpr_2[tpr_2>p][0]))\n",
    "    thresholds.append((thresholds_1[tpr_1>p][0], thresholds_2[tpr_2>p][0]))\n",
    "\n",
    "_, ax = plt.subplots(1,1, figsize=(7,5))\n",
    "\n",
    "ax.plot(tpr_diff, label='tpr differences')\n",
    "ax.plot(fpr_diff, label='fpr differences')\n",
    "ax.plot(122,0.00111, ms=10, \n",
    "        marker='o', alpha=0.3, \n",
    "        label='closest point', ls='')\n",
    "\n",
    "plt.legend();"
   ]
  },
  {
   "cell_type": "code",
   "execution_count": 136,
   "metadata": {},
   "outputs": [
    {
     "data": {
      "text/plain": [
       "(0.39349512434204076, 0.3090268657577433, 122)"
      ]
     },
     "execution_count": 136,
     "metadata": {},
     "output_type": "execute_result"
    }
   ],
   "source": [
    "#choose the point with smallest differences between the groups tpr, and fpr rates.\n",
    "\n",
    "n = np.argmin(fpr_diff) #we are using the fpr to choose the point as the tpr is relatively constant\n",
    "\n",
    "a, b = thresholds[n]\n",
    "a, b, n"
   ]
  },
  {
   "cell_type": "code",
   "execution_count": 137,
   "metadata": {},
   "outputs": [
    {
     "name": "stdout",
     "output_type": "stream",
     "text": [
      "Standard Logistic Regression Model\n",
      "Group1 accuracy: 0.79\n",
      "Group2 accuracy: 0.75\n",
      "Total  accuracy: 0.77\n"
     ]
    }
   ],
   "source": [
    "scores_1 = LRclf.predict_proba(X_test[group_test==1])[:,1]\n",
    "scores_2 = LRclf.predict_proba(X_test[group_test==2])[:,1]\n",
    "y_true_1 = y_test[group_test==1]\n",
    "y_true_2 = y_test[group_test==2]\n",
    "\n",
    "y_pred_1 = [1 if i >= 0.5 else 0 for i in scores_1] #standard LR\n",
    "y_pred_2 = [1 if i >= 0.5 else 0 for i in scores_2] #standard LR\n",
    "\n",
    "tot_true = np.hstack([y_true_1, y_true_2])\n",
    "tot_pred = np.hstack([y_pred_1, y_pred_2])\n",
    "\n",
    "print('Standard Logistic Regression Model')\n",
    "print(f'Group1 accuracy: {1-(sum(abs(y_true_1 - y_pred_1))/len(y_pred_1)):.2f}\\nGroup2 accuracy: {1-(sum(abs(y_true_2 - y_pred_2))/len(y_pred_2)):.2f}\\nTotal  accuracy: {1-(sum(abs(tot_true - tot_pred))/len(tot_pred)):.2f}')"
   ]
  },
  {
   "cell_type": "code",
   "execution_count": 138,
   "metadata": {},
   "outputs": [
    {
     "name": "stdout",
     "output_type": "stream",
     "text": [
      "Using threshold for each group\n",
      "Group1 accuracy: 0.77\n",
      "Group2 accuracy: 0.73\n",
      "Total  accuracy: 0.75\n"
     ]
    }
   ],
   "source": [
    "y_pred_1 = [1 if i >= a else 0 for i in scores_1] #using threshold for equalised odds\n",
    "y_pred_2 = [1 if i >= b else 0 for i in scores_2] #using threshold for equalised odds\n",
    "\n",
    "tot_true = np.hstack([y_true_1, y_true_2])\n",
    "tot_pred = np.hstack([y_pred_1, y_pred_2])\n",
    "\n",
    "print('Using threshold for each group')\n",
    "print(f'Group1 accuracy: {1-(sum(abs(y_true_1 - y_pred_1))/len(y_pred_1)):.2f}\\nGroup2 accuracy: {1-(sum(abs(y_true_2 - y_pred_2))/len(y_pred_2)):.2f}\\nTotal  accuracy: {1-(sum(abs(tot_true - tot_pred))/len(tot_pred)):.2f}')\n"
   ]
  },
  {
   "cell_type": "markdown",
   "metadata": {},
   "source": [
    "Accuracy falls slightly across both groups as well as for the whole.\n",
    "\n",
    "So now we will look at the confusion matrix and the fairness measures to see what the effect has been"
   ]
  },
  {
   "cell_type": "code",
   "execution_count": 139,
   "metadata": {},
   "outputs": [
    {
     "data": {
      "image/png": "[encoded data removed]",
      "text/plain": [
       "<Figure size 700x400 with 3 Axes>"
      ]
     },
     "metadata": {},
     "output_type": "display_data"
    }
   ],
   "source": [
    "res = pd.DataFrame(tot_pred, columns=['S'])\n",
    "res['G'] = [1]*len(y_true_1) + [2]*len(y_true_2)\n",
    "res['A'] = tot_true\n",
    "\n",
    "G_1 = res[res.G==1]\n",
    "fig, ax = plt.subplots(1,3, figsize=(7,4), gridspec_kw={'width_ratios': [4, 4, 0.5]})\n",
    "cm = confusion_matrix(G_1.A, G_1.S)\n",
    "cm = cm/G_1.shape[0]\n",
    "sns.heatmap(cm, annot=True, fmt=\".1%\", \n",
    "            xticklabels=['False', 'True'], \n",
    "            yticklabels=['False', 'True'],\n",
    "            ax=ax[0],\n",
    "            vmin=0, vmax=.56,\n",
    "            cbar=True,\n",
    "            cbar_ax=ax[2],\n",
    "            square=True)\n",
    "\n",
    "ax[0].set_ylabel('True label (T)')\n",
    "ax[0].set_xlabel('Predicted label (S)')\n",
    "ax[0].set_title('G=1')\n",
    "\n",
    "G_2 = res[res.G==2]\n",
    "cm = confusion_matrix(G_2.A, G_2.S)\n",
    "cm = cm/G_2.shape[0]\n",
    "sns.heatmap(cm, annot=True, fmt=\".1%\",\n",
    "            xticklabels=['False', 'True'],\n",
    "            yticklabels=False,\n",
    "            ax=ax[1],\n",
    "            vmin=0, vmax=.56,\n",
    "            cbar=False,\n",
    "            square=True)\n",
    "\n",
    "ax[1].set_xlabel('Predicted label (S)')\n",
    "ax[1].set_title('G=2')\n",
    "fig.suptitle('Logistic Regression by group membership')\n",
    "fig.tight_layout();"
   ]
  },
  {
   "cell_type": "code",
   "execution_count": 140,
   "metadata": {},
   "outputs": [
    {
     "name": "stdout",
     "output_type": "stream",
     "text": [
      "Target = 1\n",
      "Equalised odds: \n",
      "Group 1 0.91\n",
      "Group 2 0.91\n",
      "\n",
      "Target = 0\n",
      "Equalised odds: \n",
      "Group 1 0.45\n",
      "Group 2 0.45\n"
     ]
    }
   ],
   "source": [
    "#We changed the thresholds to make fair according to the equalised odds criteria\n",
    "#previous T=1 0.91/0.92, T=0, 0.43/0.49\n",
    "\n",
    "t1_odds = equal_odds(res)\n",
    "t0_odds = equal_odds(res, target=0)\n",
    "\n",
    "print(f'Target = 1')\n",
    "print(f'Equalised odds: \\nGroup 1 {t1_odds[0]:.2f}\\nGroup 2 {t1_odds[1]:.2f}')\n",
    "print()\n",
    "print(f'Target = 0')\n",
    "print(f'Equalised odds: \\nGroup 1 {t0_odds[0]:.2f}\\nGroup 2 {t0_odds[1]:.2f}')"
   ]
  },
  {
   "cell_type": "code",
   "execution_count": 141,
   "metadata": {},
   "outputs": [
    {
     "name": "stdout",
     "output_type": "stream",
     "text": [
      "Statistical parity:\n",
      "Group 1 0.73\n",
      "Group 2 0.67\n",
      "\n",
      "Statisical parity is also improved, although not achieved\n"
     ]
    }
   ],
   "source": [
    "#Previous 0.64/0.51\n",
    "sp = stat_parity(res)\n",
    "print(f'Statistical parity:')\n",
    "print(f'Group 1 {sp[0]:.2f}\\nGroup 2 {sp[1]:.2f}')\n",
    "print('\\nStatisical parity is also improved, although not achieved')"
   ]
  },
  {
   "cell_type": "code",
   "execution_count": 142,
   "metadata": {},
   "outputs": [
    {
     "name": "stdout",
     "output_type": "stream",
     "text": [
      "S = 1\n",
      "Equalised outcomes: \n",
      "Group 1 0.76\n",
      "Group 2 0.66\n",
      "\n",
      "S = 0\n",
      "Equalised outcomes: \n",
      "Group 1 0.20\n",
      "Group 2 0.14\n",
      "\n",
      "Not much change to equalised outcomes\n"
     ]
    }
   ],
   "source": [
    "#Previous s=1: 0.77/0.64, s=0: 0.19/0.13\n",
    "\n",
    "t1_out = equal_outcomes(res)\n",
    "t0_out = equal_outcomes(res, s=0)\n",
    "\n",
    "print(f'S = 1')\n",
    "print(f'Equalised outcomes: \\nGroup 1 {t1_out[0]:.2f}\\nGroup 2 {t1_out[1]:.2f}')\n",
    "print()\n",
    "print(f'S = 0')\n",
    "print(f'Equalised outcomes: \\nGroup 1 {t0_out[0]:.2f}\\nGroup 2 {t0_out[1]:.2f}')\n",
    "\n",
    "print('\\nNot much change to equalised outcomes')"
   ]
  },
  {
   "cell_type": "markdown",
   "metadata": {},
   "source": [
    "## Task 2 (Explaining white-box models)  \n",
    "1. Explain the trained logistic regression model. In particular, discuss which features in the \n",
    "model are deemed most relevant. Reflect on the interpretation. Does it fit your intuition \n",
    "about the prediction task?\n",
    "2. Pick one data point in the test dataset. Find a counterfactual data point that contrasts the \n",
    "outcome of the inference on this data point (e.g., \"had X had feature P >=, then it had been \n",
    "classified as ...\"). Describe how you used the model explanation to find such a counterfactual.\n"
   ]
  },
  {
   "cell_type": "markdown",
   "metadata": {},
   "source": [
    "Interpreting odds ratios:\n",
    "\n",
    "“For every one-unit increase in [X variable], the odds that the observation is in (y class) are [coefficient] times as large as the odds that the observation is not in (y class) when all other variables are held constant.”\n",
    "\n",
    "https://towardsdatascience.com/interpreting-coefficients-in-linear-and-logistic-regression-6ddf1295f6f1"
   ]
  },
  {
   "cell_type": "code",
   "execution_count": 143,
   "metadata": {},
   "outputs": [
    {
     "data": {
      "text/html": [
       "<div>\n",
       "<style scoped>\n",
       "    .dataframe tbody tr th:only-of-type {\n",
       "        vertical-align: middle;\n",
       "    }\n",
       "\n",
       "    .dataframe tbody tr th {\n",
       "        vertical-align: top;\n",
       "    }\n",
       "\n",
       "    .dataframe thead th {\n",
       "        text-align: right;\n",
       "    }\n",
       "</style>\n",
       "<table border=\"1\" class=\"dataframe\">\n",
       "  <thead>\n",
       "    <tr style=\"text-align: right;\">\n",
       "      <th></th>\n",
       "      <th>coef</th>\n",
       "      <th>logodds</th>\n",
       "    </tr>\n",
       "  </thead>\n",
       "  <tbody>\n",
       "    <tr>\n",
       "      <th>AGEP</th>\n",
       "      <td>2.876831</td>\n",
       "      <td>17.757909</td>\n",
       "    </tr>\n",
       "    <tr>\n",
       "      <th>SCHL_24.0</th>\n",
       "      <td>1.893129</td>\n",
       "      <td>6.640111</td>\n",
       "    </tr>\n",
       "    <tr>\n",
       "      <th>SCHL_23.0</th>\n",
       "      <td>1.863795</td>\n",
       "      <td>6.448162</td>\n",
       "    </tr>\n",
       "    <tr>\n",
       "      <th>SCHL_22.0</th>\n",
       "      <td>1.674363</td>\n",
       "      <td>5.335396</td>\n",
       "    </tr>\n",
       "    <tr>\n",
       "      <th>SCHL_21.0</th>\n",
       "      <td>1.173845</td>\n",
       "      <td>3.234405</td>\n",
       "    </tr>\n",
       "    <tr>\n",
       "      <th>COW_8.0</th>\n",
       "      <td>-1.113020</td>\n",
       "      <td>0.328565</td>\n",
       "    </tr>\n",
       "    <tr>\n",
       "      <th>SCHL_4.0</th>\n",
       "      <td>-0.993403</td>\n",
       "      <td>0.370315</td>\n",
       "    </tr>\n",
       "    <tr>\n",
       "      <th>COW_5.0</th>\n",
       "      <td>0.716335</td>\n",
       "      <td>2.046918</td>\n",
       "    </tr>\n",
       "    <tr>\n",
       "      <th>SCHL_8.0</th>\n",
       "      <td>-0.705455</td>\n",
       "      <td>0.493884</td>\n",
       "    </tr>\n",
       "    <tr>\n",
       "      <th>SCHL_5.0</th>\n",
       "      <td>-0.697996</td>\n",
       "      <td>0.497581</td>\n",
       "    </tr>\n",
       "    <tr>\n",
       "      <th>SCHL_14.0</th>\n",
       "      <td>-0.665851</td>\n",
       "      <td>0.513836</td>\n",
       "    </tr>\n",
       "    <tr>\n",
       "      <th>ENG_4.0</th>\n",
       "      <td>-0.618844</td>\n",
       "      <td>0.538567</td>\n",
       "    </tr>\n",
       "    <tr>\n",
       "      <th>SCHL_6.0</th>\n",
       "      <td>-0.602663</td>\n",
       "      <td>0.547352</td>\n",
       "    </tr>\n",
       "    <tr>\n",
       "      <th>SCHL_1.0</th>\n",
       "      <td>-0.601143</td>\n",
       "      <td>0.548185</td>\n",
       "    </tr>\n",
       "    <tr>\n",
       "      <th>HINS1_2</th>\n",
       "      <td>-0.516838</td>\n",
       "      <td>0.596404</td>\n",
       "    </tr>\n",
       "    <tr>\n",
       "      <th>COW_6.0</th>\n",
       "      <td>-0.512690</td>\n",
       "      <td>0.598882</td>\n",
       "    </tr>\n",
       "    <tr>\n",
       "      <th>SCHL_9.0</th>\n",
       "      <td>-0.512556</td>\n",
       "      <td>0.598962</td>\n",
       "    </tr>\n",
       "    <tr>\n",
       "      <th>HINS1_1</th>\n",
       "      <td>0.499970</td>\n",
       "      <td>1.648671</td>\n",
       "    </tr>\n",
       "    <tr>\n",
       "      <th>MAR_5</th>\n",
       "      <td>-0.498435</td>\n",
       "      <td>0.607480</td>\n",
       "    </tr>\n",
       "    <tr>\n",
       "      <th>SCHL_7.0</th>\n",
       "      <td>-0.484923</td>\n",
       "      <td>0.615745</td>\n",
       "    </tr>\n",
       "  </tbody>\n",
       "</table>\n",
       "</div>"
      ],
      "text/plain": [
       "               coef    logodds\n",
       "AGEP       2.876831  17.757909\n",
       "SCHL_24.0  1.893129   6.640111\n",
       "SCHL_23.0  1.863795   6.448162\n",
       "SCHL_22.0  1.674363   5.335396\n",
       "SCHL_21.0  1.173845   3.234405\n",
       "COW_8.0   -1.113020   0.328565\n",
       "SCHL_4.0  -0.993403   0.370315\n",
       "COW_5.0    0.716335   2.046918\n",
       "SCHL_8.0  -0.705455   0.493884\n",
       "SCHL_5.0  -0.697996   0.497581\n",
       "SCHL_14.0 -0.665851   0.513836\n",
       "ENG_4.0   -0.618844   0.538567\n",
       "SCHL_6.0  -0.602663   0.547352\n",
       "SCHL_1.0  -0.601143   0.548185\n",
       "HINS1_2   -0.516838   0.596404\n",
       "COW_6.0   -0.512690   0.598882\n",
       "SCHL_9.0  -0.512556   0.598962\n",
       "HINS1_1    0.499970   1.648671\n",
       "MAR_5     -0.498435   0.607480\n",
       "SCHL_7.0  -0.484923   0.615745"
      ]
     },
     "execution_count": 143,
     "metadata": {},
     "output_type": "execute_result"
    }
   ],
   "source": [
    "odds = pd.DataFrame(LRclf.coef_[0], \n",
    "             X_train.columns,\n",
    "             columns=['coef'])\n",
    "\n",
    "odds['logodds'] = np.exp(odds.coef)\n",
    "odds['abs_odds'] = abs(odds.coef)\n",
    "odds = odds.sort_values(by='abs_odds', ascending=False).drop('abs_odds', axis=1)\n",
    "\n",
    "odds.head(20)"
   ]
  },
  {
   "cell_type": "code",
   "execution_count": 144,
   "metadata": {},
   "outputs": [
    {
     "data": {
      "text/html": [
       "<div>\n",
       "<style scoped>\n",
       "    .dataframe tbody tr th:only-of-type {\n",
       "        vertical-align: middle;\n",
       "    }\n",
       "\n",
       "    .dataframe tbody tr th {\n",
       "        vertical-align: top;\n",
       "    }\n",
       "\n",
       "    .dataframe thead th {\n",
       "        text-align: right;\n",
       "    }\n",
       "</style>\n",
       "<table border=\"1\" class=\"dataframe\">\n",
       "  <thead>\n",
       "    <tr style=\"text-align: right;\">\n",
       "      <th></th>\n",
       "      <th>probs</th>\n",
       "    </tr>\n",
       "  </thead>\n",
       "  <tbody>\n",
       "    <tr>\n",
       "      <th>3245</th>\n",
       "      <td>0.499937</td>\n",
       "    </tr>\n",
       "    <tr>\n",
       "      <th>8761</th>\n",
       "      <td>0.499937</td>\n",
       "    </tr>\n",
       "    <tr>\n",
       "      <th>11550</th>\n",
       "      <td>0.500057</td>\n",
       "    </tr>\n",
       "    <tr>\n",
       "      <th>11751</th>\n",
       "      <td>0.499964</td>\n",
       "    </tr>\n",
       "    <tr>\n",
       "      <th>13517</th>\n",
       "      <td>0.499957</td>\n",
       "    </tr>\n",
       "    <tr>\n",
       "      <th>31438</th>\n",
       "      <td>0.499983</td>\n",
       "    </tr>\n",
       "    <tr>\n",
       "      <th>34815</th>\n",
       "      <td>0.500034</td>\n",
       "    </tr>\n",
       "    <tr>\n",
       "      <th>38312</th>\n",
       "      <td>0.499931</td>\n",
       "    </tr>\n",
       "  </tbody>\n",
       "</table>\n",
       "</div>"
      ],
      "text/plain": [
       "          probs\n",
       "3245   0.499937\n",
       "8761   0.499937\n",
       "11550  0.500057\n",
       "11751  0.499964\n",
       "13517  0.499957\n",
       "31438  0.499983\n",
       "34815  0.500034\n",
       "38312  0.499931"
      ]
     },
     "execution_count": 144,
     "metadata": {},
     "output_type": "execute_result"
    }
   ],
   "source": [
    "probs = LRclf.predict_proba(X_test)[:,1]\n",
    "probs = pd.DataFrame(probs, columns=['probs'])\n",
    "\n",
    "poss = probs[(0.4999<probs.probs)&(probs.probs<0.5001)]\n",
    "poss"
   ]
  },
  {
   "cell_type": "code",
   "execution_count": 145,
   "metadata": {},
   "outputs": [
    {
     "name": "stdout",
     "output_type": "stream",
     "text": [
      "[False]\n"
     ]
    },
    {
     "data": {
      "text/html": [
       "<div>\n",
       "<style scoped>\n",
       "    .dataframe tbody tr th:only-of-type {\n",
       "        vertical-align: middle;\n",
       "    }\n",
       "\n",
       "    .dataframe tbody tr th {\n",
       "        vertical-align: top;\n",
       "    }\n",
       "\n",
       "    .dataframe thead th {\n",
       "        text-align: right;\n",
       "    }\n",
       "</style>\n",
       "<table border=\"1\" class=\"dataframe\">\n",
       "  <thead>\n",
       "    <tr style=\"text-align: right;\">\n",
       "      <th></th>\n",
       "      <th>AGEP</th>\n",
       "      <th>HINS1_1</th>\n",
       "      <th>HINS1_2</th>\n",
       "      <th>HINS2_1</th>\n",
       "      <th>HINS2_2</th>\n",
       "      <th>HINS4_1</th>\n",
       "      <th>HINS4_2</th>\n",
       "      <th>CIT_1</th>\n",
       "      <th>CIT_2</th>\n",
       "      <th>CIT_3</th>\n",
       "      <th>...</th>\n",
       "      <th>RAC1P_7</th>\n",
       "      <th>RAC1P_8</th>\n",
       "      <th>RAC1P_9</th>\n",
       "      <th>ENG_1.0</th>\n",
       "      <th>ENG_2.0</th>\n",
       "      <th>ENG_3.0</th>\n",
       "      <th>ENG_4.0</th>\n",
       "      <th>ENG_nan</th>\n",
       "      <th>y</th>\n",
       "      <th>prob</th>\n",
       "    </tr>\n",
       "  </thead>\n",
       "  <tbody>\n",
       "    <tr>\n",
       "      <th>294318</th>\n",
       "      <td>0.116883</td>\n",
       "      <td>True</td>\n",
       "      <td>False</td>\n",
       "      <td>False</td>\n",
       "      <td>True</td>\n",
       "      <td>False</td>\n",
       "      <td>True</td>\n",
       "      <td>True</td>\n",
       "      <td>False</td>\n",
       "      <td>False</td>\n",
       "      <td>...</td>\n",
       "      <td>False</td>\n",
       "      <td>False</td>\n",
       "      <td>False</td>\n",
       "      <td>False</td>\n",
       "      <td>False</td>\n",
       "      <td>False</td>\n",
       "      <td>False</td>\n",
       "      <td>True</td>\n",
       "      <td>True</td>\n",
       "      <td>0.499937</td>\n",
       "    </tr>\n",
       "  </tbody>\n",
       "</table>\n",
       "<p>1 rows × 67 columns</p>\n",
       "</div>"
      ],
      "text/plain": [
       "            AGEP HINS1_1 HINS1_2 HINS2_1 HINS2_2 HINS4_1 HINS4_2 CIT_1  CIT_2  \\\n",
       "294318  0.116883    True   False   False    True   False    True  True  False   \n",
       "\n",
       "        CIT_3  ... RAC1P_7 RAC1P_8 RAC1P_9 ENG_1.0 ENG_2.0 ENG_3.0 ENG_4.0  \\\n",
       "294318  False  ...   False   False   False   False   False   False   False   \n",
       "\n",
       "       ENG_nan     y      prob  \n",
       "294318    True  True  0.499937  \n",
       "\n",
       "[1 rows x 67 columns]"
      ]
     },
     "execution_count": 145,
     "metadata": {},
     "output_type": "execute_result"
    }
   ],
   "source": [
    "df = pd.DataFrame(X_test)\n",
    "df['y'] = y_test\n",
    "df['prob'] = LRclf.predict_proba(X_test)[:,1]\n",
    "\n",
    "poss = df[(0.4999<df.prob)&(df.prob<0.5001)]\n",
    "test = pd.DataFrame(poss.iloc[0]).T #select a datapoint close to being classified as the other\n",
    "\n",
    "print(LRclf.predict(test[test.columns[:-2]])) #currently predicted False\n",
    "test"
   ]
  },
  {
   "cell_type": "code",
   "execution_count": 146,
   "metadata": {},
   "outputs": [
    {
     "data": {
      "text/plain": [
       "26.0"
      ]
     },
     "execution_count": 146,
     "metadata": {},
     "output_type": "execute_result"
    }
   ],
   "source": [
    "test.AGEP\n",
    "\n",
    "column_trans.named_transformers_['scaler'].inverse_transform(test)[0][0] #originally 26"
   ]
  },
  {
   "cell_type": "code",
   "execution_count": 116,
   "metadata": {},
   "outputs": [
    {
     "name": "stdout",
     "output_type": "stream",
     "text": [
      "[ True]\n"
     ]
    },
    {
     "data": {
      "text/plain": [
       "26.007699999999996"
      ]
     },
     "execution_count": 116,
     "metadata": {},
     "output_type": "execute_result"
    }
   ],
   "source": [
    "test.AGEP += 0.0001 #we increase AGEP by a small amount as this is likely to make a large effect\n",
    "\n",
    "print(LRclf.predict(test[test.columns[:-2]])) #now it is flipped\n",
    "\n",
    "column_trans.named_transformers_['scaler'].inverse_transform(test)[0][0] #by making them 26.007... Hmmmm."
   ]
  },
  {
   "cell_type": "markdown",
   "metadata": {},
   "source": [
    "## Task 3 (Model-agnostic explanations)  \n",
    "1. Both for the white-box and the black-box classifier, use the  shap  module to explain \n",
    "predictions. Contrast the two models to each other: What are similarities, how do they differ?\n",
    "2. For logistic regression, compare the model-agnostic explanation to your analysis in Task 2. \n",
    "How do the explanations differ?"
   ]
  },
  {
   "cell_type": "code",
   "execution_count": null,
   "metadata": {},
   "outputs": [],
   "source": []
  },
  {
   "cell_type": "markdown",
   "metadata": {},
   "source": [
    "## Task 4 (Reflection)  \n",
    "Given the outcome of your study, which classifier is most suited for the prediction task under \n",
    "accuracy, explainability, and fairness considerations?"
   ]
  },
  {
   "cell_type": "code",
   "execution_count": null,
   "metadata": {},
   "outputs": [],
   "source": []
  }
 ],
 "metadata": {
  "interpreter": {
   "hash": "31f2aee4e71d21fbe5cf8b01ff0e069b9275f58929596ceb00d14d90e3e16cd6"
  },
  "kernelspec": {
   "display_name": "Python 3.8.10 64-bit",
   "language": "python",
   "name": "python3"
  },
  "language_info": {
   "codemirror_mode": {
    "name": "ipython",
    "version": 3
   },
   "file_extension": ".py",
   "mimetype": "text/x-python",
   "name": "python",
   "nbconvert_exporter": "python",
   "pygments_lexer": "ipython3",
   "version": "3.11.7"
  },
  "orig_nbformat": 4
 },
 "nbformat": 4,
 "nbformat_minor": 2
}
