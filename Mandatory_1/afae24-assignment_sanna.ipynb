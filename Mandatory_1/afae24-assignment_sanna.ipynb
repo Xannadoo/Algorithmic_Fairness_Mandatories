{
 "cells": [
  {
   "attachments": {},
   "cell_type": "markdown",
   "metadata": {},
   "source": [
    "# Algorithmic Fairness, Accountability, and Ethics, Spring 2024\n",
    "\n",
    "## Mandatory Assignment 1\n",
    "\n",
    "Please use the following code to prepare the dataset.\n",
    " "
   ]
  },
  {
   "cell_type": "code",
   "execution_count": 259,
   "metadata": {},
   "outputs": [],
   "source": [
    "from folktables.acs import adult_filter\n",
    "from folktables import ACSDataSource\n",
    "import numpy as np\n",
    "import pandas as pd\n",
    "from sklearn.model_selection import train_test_split\n",
    "\n",
    "\n",
    "data_source = ACSDataSource(survey_year='2018', horizon='1-Year', survey='person')\n",
    "acs_data = data_source.get_data(states=[\"CA\"], download=False)\n",
    "\n",
    "feature_names = ['AGEP', # Age\n",
    "                 \"CIT\", # Citizenship status\n",
    "                 'COW', # Class of worker\n",
    "                 \"ENG\", # Ability to speak English\n",
    "                 'SCHL', # Educational attainment\n",
    "                 'MAR', # Marital status\n",
    "                 \"HINS1\", # Insurance through a current or former employer or union\n",
    "                 \"HINS2\", # Insurance purchased directly from an insurance company\n",
    "                 \"HINS4\", # Medicaid\n",
    "                 \"RAC1P\", # Recoded detailed race code\n",
    "                 'SEX']\n",
    "\n",
    "target_name = \"PINCP\" # Total person's income\n",
    "\n",
    "def data_processing(data, features, target_name:str, threshold: float = 35000):\n",
    "    df = data\n",
    "    ### Adult Filter (STARTS) (from Foltktables)\n",
    "    df = df[~df[\"SEX\"].isnull()]\n",
    "    df = df[~df[\"RAC1P\"].isnull()]\n",
    "    df = df[df['AGEP'] > 16]\n",
    "    df = df[df['PINCP'] > 100]\n",
    "    df = df[df['WKHP'] > 0]\n",
    "    df = df[df['PWGTP'] >= 1]\n",
    "    ### Adult Filter (ENDS)\n",
    "    ### Groups of interest\n",
    "    sex = df[\"SEX\"].values\n",
    "    ### Target\n",
    "    df[\"target\"] = df[target_name] > threshold\n",
    "    target = df[\"target\"].values\n",
    "    df = df[features + [\"target\", target_name]] ##we want to keep df before one_hot encoding to make Bias Analysis\n",
    "    df_processed = df[features].copy()\n",
    "    cols = [ \"HINS1\", \"HINS2\", \"HINS4\", \"CIT\", \"COW\", \"SCHL\", \"MAR\", \"SEX\", \"RAC1P\"]\n",
    "    df_processed = pd.get_dummies(df_processed, prefix=None, prefix_sep='_', dummy_na=False, columns=cols, drop_first=True)\n",
    "    df_processed = pd.get_dummies(df_processed, prefix=None, prefix_sep='_', dummy_na=True, columns=[\"ENG\"], drop_first=True)\n",
    "    return df_processed, df, target, sex\n",
    "\n",
    "data, data_original, target, group = data_processing(acs_data, feature_names, target_name)\n",
    "\n",
    "X_train, X_test, y_train, y_test, group_train, group_test = train_test_split(\n",
    "    data, target, group, test_size=0.2, random_state=0)"
   ]
  },
  {
   "cell_type": "code",
   "execution_count": 260,
   "metadata": {},
   "outputs": [],
   "source": [
    "## Imports\n",
    "from sklearn.linear_model import LogisticRegression\n",
    "from sklearn.ensemble import RandomForestClassifier\n",
    "\n",
    "from sklearn.compose import ColumnTransformer \n",
    "from sklearn.preprocessing import StandardScaler, MinMaxScaler\n",
    "\n",
    "from sklearn.metrics import confusion_matrix\n",
    "\n",
    "import matplotlib.pyplot as plt\n",
    "import seaborn as sns\n",
    "\n",
    "#Set seed\n",
    "seed = 23\n",
    "\n",
    "#set colormap\n",
    "sns.set_palette(palette=\"magma\")"
   ]
  },
  {
   "cell_type": "markdown",
   "metadata": {},
   "source": [
    "## Task 1 (Classifiers and fairness considerations)  \n",
    "1. Starting from the template, train two different classifiers on the training data: a white-box \n",
    "model using logistic regression, and a black-box model using a random forest. Consider \n",
    "feature engineering and scaling steps necessary for some of these classifiers and summarize \n",
    "the necessary changes in your report. For both models, report on the accuracy of the \n",
    "classifier on the test set."
   ]
  },
  {
   "cell_type": "markdown",
   "metadata": {},
   "source": [
    "### Preprocessing"
   ]
  },
  {
   "cell_type": "code",
   "execution_count": 261,
   "metadata": {},
   "outputs": [],
   "source": [
    "#One one column left that is not boolean, AGEP.\n",
    "#We scale this to between 0-1 because the penalty term is sensitive to scale. I think.\n",
    "    \n",
    "column_trans = ColumnTransformer(\n",
    "    [('scaler', MinMaxScaler(),['AGEP'])], \n",
    "    remainder='passthrough')\n",
    "\n",
    "column_trans.fit(X_train) #Use the training data only to fit the scaler.\n",
    "\n",
    "X_train.AGEP = column_trans.transform(X_train)[:,0]\n",
    "\n",
    "X_test.AGEP = column_trans.transform(X_test)[:,0] #Fit both train and test using the fitted scaler."
   ]
  },
  {
   "cell_type": "markdown",
   "metadata": {},
   "source": [
    "### Logistic Regression Model: white box"
   ]
  },
  {
   "cell_type": "code",
   "execution_count": 262,
   "metadata": {},
   "outputs": [],
   "source": [
    "LRclf = LogisticRegression(max_iter=5000, \n",
    "                            penalty='l2', \n",
    "                            C=0.98497534359086438, \n",
    "                            tol=1e-4,\n",
    "                            solver='saga', \n",
    "                            random_state=seed)\n",
    "LRclf.fit(X_train, y_train)\n",
    "LR_score = LRclf.score(X_test, y_test)"
   ]
  },
  {
   "cell_type": "markdown",
   "metadata": {},
   "source": [
    "### Random Forest Model: black box"
   ]
  },
  {
   "cell_type": "code",
   "execution_count": 263,
   "metadata": {},
   "outputs": [],
   "source": [
    "RFclf = RandomForestClassifier(max_depth=2, \n",
    "                                random_state=seed, \n",
    "                                n_jobs=-1, \n",
    "                                n_estimators=200)\n",
    "RFclf.fit(X_train, y_train)\n",
    "RF_score = RFclf.score(X_test, y_test)"
   ]
  },
  {
   "cell_type": "code",
   "execution_count": 264,
   "metadata": {},
   "outputs": [
    {
     "name": "stdout",
     "output_type": "stream",
     "text": [
      "Logistic Reg  score: 0.77\n",
      "Random Forest score: 0.75\n"
     ]
    }
   ],
   "source": [
    "print(f'Logistic Reg  score: {LR_score:.2}\\nRandom Forest score: {RF_score:.2}')"
   ]
  },
  {
   "cell_type": "markdown",
   "metadata": {},
   "source": [
    "2. For each classifier, measure statistical parity, equalized odds (both in terms of  T = 0  and  T \n",
    "= 1 ), and equality of outcome (both in terms of  S = 0  and  S = 1 ) (Lecture 2). Plot the \n",
    "results and discuss the differences that you observe."
   ]
  },
  {
   "cell_type": "markdown",
   "metadata": {},
   "source": [
    "### Statistical Parity\n",
    "\n",
    "$P(S=1|G=2) = P(S=1|G=1)$\n",
    "\n",
    "### Equalised Odds\n",
    "\n",
    "$P(S=1|G=2, T=1) = P(S=1|G=1, T=1)$\n",
    "\n",
    "$P(S=1|G=2, T=0) = P(S=1|G=1, T=0)$\n",
    "\n",
    "### Equalised Outcomes\n",
    "\n",
    "$P(T=1|G=2, S=1) = P(T=1|G=1, S=1)$\n",
    "\n",
    "$P(T=1|G=2, S=0) = P(T=1|G=1, S=0)$\n",
    "\n",
    "$S$ = Predicted value\n",
    "\n",
    "$T$ = True value (going to use $A$ instead because ```.T``` is a thing in pandas already)\n",
    "\n",
    "$G$ = Group status"
   ]
  },
  {
   "cell_type": "code",
   "execution_count": 265,
   "metadata": {},
   "outputs": [],
   "source": [
    "def stat_parity(model, X_test):\n",
    "    df = pd.DataFrame(model.predict(X_test), columns=['S'])\n",
    "    df['G'] = group_test\n",
    "    df['A'] = y_test\n",
    "\n",
    "    g1 = sum(df[df.G==1].S)/df[df.G==1].shape[0]\n",
    "    g2 = sum(df[df.G==2].S)/df[df.G==2].shape[0]\n",
    "\n",
    "    return g1, g2\n",
    "\n",
    "def equal_odds(model, X_test, target=1):\n",
    "    df = pd.DataFrame(model.predict(X_test), columns=['S'])\n",
    "    df['G'] = group_test\n",
    "    df['A'] = y_test\n",
    "\n",
    "    g1 = sum(df[(df.G==1)&(df.A==target)].S)/df[(df.G==1)&(df.A==target)].shape[0]\n",
    "    g2 = sum(df[(df.G==2)&(df.A==target)].S)/df[(df.G==2)&(df.A==target)].shape[0]\n",
    "\n",
    "    return g1, g2\n",
    "\n",
    "def equal_outcomes(model, X_test, s=1):\n",
    "    df = pd.DataFrame(model.predict(X_test), columns=['S'])\n",
    "    df['G'] = group_test\n",
    "    df['A'] = y_test\n",
    "\n",
    "    g1 = sum(df[(df.G==1)&(df.S==s)].A)/df[(df.G==1)&(df.S==s)].shape[0]\n",
    "    g2 = sum(df[(df.G==2)&(df.S==s)].A)/df[(df.G==2)&(df.S==s)].shape[0]\n",
    "\n",
    "    return g1, g2"
   ]
  },
  {
   "cell_type": "code",
   "execution_count": 266,
   "metadata": {},
   "outputs": [
    {
     "data": {
      "image/png": "[encoded data removed]",
      "text/plain": [
       "<Figure size 700x300 with 2 Axes>"
      ]
     },
     "metadata": {},
     "output_type": "display_data"
    }
   ],
   "source": [
    "_, ax = plt.subplots(1,2, figsize=(7,3))\n",
    "cm = confusion_matrix(y_test, LRclf.predict(X_test))\n",
    "sns.heatmap(cm, annot=True, fmt=\".0f\", \n",
    "            xticklabels=['False', 'True'], \n",
    "            yticklabels=['False', 'True'],\n",
    "            ax=ax[0], \n",
    "            cbar=False)\n",
    "\n",
    "ax[0].set_ylabel('True label (T)')\n",
    "ax[0].set_xlabel('Predicted label (S)')\n",
    "ax[0].set_title('Logistic Regression')\n",
    "\n",
    "\n",
    "cm = confusion_matrix(y_test, RFclf.predict(X_test))\n",
    "sns.heatmap(cm, annot=True, fmt=\".0f\", \n",
    "            xticklabels=['False', 'True'], \n",
    "            yticklabels=['False', 'True'],\n",
    "            ax=ax[1], \n",
    "            cbar=False)\n",
    "\n",
    "ax[1].set_xlabel('Predicted label (S)')\n",
    "ax[1].set_title('Random Forest');"
   ]
  },
  {
   "cell_type": "code",
   "execution_count": 267,
   "metadata": {},
   "outputs": [
    {
     "data": {
      "image/png": "[encoded data removed]",
      "text/plain": [
       "<Figure size 700x400 with 3 Axes>"
      ]
     },
     "metadata": {},
     "output_type": "display_data"
    }
   ],
   "source": [
    "res = pd.DataFrame(LRclf.predict(X_test), columns=['S'])\n",
    "res['G'] = group_test\n",
    "res['A'] = y_test\n",
    "\n",
    "G_1 = res[res.G==1]\n",
    "fig, ax = plt.subplots(1,3, figsize=(7,4), gridspec_kw={'width_ratios': [4, 4, 0.5]})\n",
    "cm = confusion_matrix(G_1.A, G_1.S)\n",
    "cm = cm/G_1.shape[0]\n",
    "sns.heatmap(cm, annot=True, fmt=\".1%\", \n",
    "            xticklabels=['False', 'True'], \n",
    "            yticklabels=['False', 'True'],\n",
    "            ax=ax[0],\n",
    "            vmin=0, vmax=.52,\n",
    "            cbar=True,\n",
    "            cbar_ax=ax[2],\n",
    "            square=True)\n",
    "\n",
    "ax[0].set_ylabel('True label (T)')\n",
    "ax[0].set_xlabel('Predicted label (S)')\n",
    "ax[0].set_title('G=1')\n",
    "\n",
    "G_2 = res[res.G==2]\n",
    "cm = confusion_matrix(G_2.A, G_2.S)\n",
    "cm = cm/G_2.shape[0]\n",
    "sns.heatmap(cm, annot=True, fmt=\".1%\",\n",
    "            xticklabels=['False', 'True'],\n",
    "            yticklabels=False,\n",
    "            ax=ax[1],\n",
    "            vmin=0, vmax=.52,\n",
    "            cbar=False,\n",
    "            square=True)\n",
    "\n",
    "ax[1].set_xlabel('Predicted label (S)')\n",
    "ax[1].set_title('G=2')\n",
    "fig.suptitle('Logistic Regression by group membership')\n",
    "fig.tight_layout();"
   ]
  },
  {
   "cell_type": "code",
   "execution_count": 268,
   "metadata": {},
   "outputs": [
    {
     "data": {
      "image/png": "[encoded data removed]",
      "text/plain": [
       "<Figure size 700x400 with 3 Axes>"
      ]
     },
     "metadata": {},
     "output_type": "display_data"
    }
   ],
   "source": [
    "res = pd.DataFrame(RFclf.predict(X_test), columns=['S'])\n",
    "res['G'] = group_test\n",
    "res['A'] = y_test\n",
    "\n",
    "G_1 = res[res.G==1]\n",
    "fig, ax = plt.subplots(1,3, figsize=(7,4), gridspec_kw={'width_ratios': [4, 4, 0.5]})\n",
    "cm = confusion_matrix(G_1.A, G_1.S)\n",
    "cm = cm/G_1.shape[0]\n",
    "sns.heatmap(cm, annot=True, fmt=\".1%\", \n",
    "            xticklabels=['False', 'True'], \n",
    "            yticklabels=['False', 'True'],\n",
    "            ax=ax[0],\n",
    "            vmin=0, vmax=.56,\n",
    "            cbar=True,\n",
    "            cbar_ax=ax[2],\n",
    "            square=True)\n",
    "\n",
    "ax[0].set_ylabel('True label (T)')\n",
    "ax[0].set_xlabel('Predicted label (S)')\n",
    "ax[0].set_title('G=1')\n",
    "\n",
    "G_2 = res[res.G==2]\n",
    "cm = confusion_matrix(G_2.A, G_2.S)\n",
    "cm = cm/G_2.shape[0]\n",
    "sns.heatmap(cm, annot=True, fmt=\".1%\",\n",
    "            xticklabels=['False', 'True'],\n",
    "            yticklabels=False,\n",
    "            ax=ax[1],\n",
    "            vmin=0, vmax=.56,\n",
    "            cbar=False,\n",
    "            square=True)\n",
    "\n",
    "ax[1].set_xlabel('Predicted label (S)')\n",
    "ax[1].set_title('G=2')\n",
    "fig.suptitle('Random Forest by group membership')\n",
    "fig.tight_layout();"
   ]
  },
  {
   "cell_type": "code",
   "execution_count": 269,
   "metadata": {},
   "outputs": [
    {
     "name": "stdout",
     "output_type": "stream",
     "text": [
      "Logistic Regression statisical parity check: \n",
      "group1 0.642\n",
      "group2 0.517\n",
      "\n",
      "Random Forest statisical parity check: \n",
      "group1 0.723\n",
      "group2 0.704\n"
     ]
    }
   ],
   "source": [
    "g1, g2 = stat_parity(LRclf, X_test)\n",
    "\n",
    "print(f'Logistic Regression statisical parity check: \\ngroup1 {g1:.3}\\ngroup2 {g2:.3}')\n",
    "\n",
    "print()\n",
    "g1, g2 = stat_parity(RFclf, X_test)\n",
    "\n",
    "print(f'Random Forest statisical parity check: \\ngroup1 {g1:.3}\\ngroup2 {g2:.3}')"
   ]
  },
  {
   "cell_type": "code",
   "execution_count": 270,
   "metadata": {},
   "outputs": [
    {
     "name": "stdout",
     "output_type": "stream",
     "text": [
      "Logistic Regression equalised odds check: \n",
      "group1 0.85\n",
      "group2 0.77\n",
      "\n",
      "Random Forest equalised odds check: \n",
      "group1 0.91\n",
      "group2 0.92\n"
     ]
    }
   ],
   "source": [
    "## Target == True\n",
    "\n",
    "g1, g2 = equal_odds(LRclf, X_test)\n",
    "\n",
    "print(f'Logistic Regression equalised odds check: \\ngroup1 {g1:.2}\\ngroup2 {g2:.2}')\n",
    "\n",
    "print()\n",
    "g1, g2 = equal_odds(RFclf, X_test)\n",
    "\n",
    "print(f'Random Forest equalised odds check: \\ngroup1 {g1:.2}\\ngroup2 {g2:.2}')"
   ]
  },
  {
   "cell_type": "code",
   "execution_count": 271,
   "metadata": {},
   "outputs": [
    {
     "name": "stdout",
     "output_type": "stream",
     "text": [
      "Logistic Regression equalised odds check: \n",
      "group1 0.32\n",
      "group2 0.27\n",
      "\n",
      "Random Forest equalised odds check: \n",
      "group1 0.43\n",
      "group2 0.49\n"
     ]
    }
   ],
   "source": [
    "## Target == False\n",
    "\n",
    "g1, g2 = equal_odds(LRclf, X_test, target=0)\n",
    "\n",
    "print(f'Logistic Regression equalised odds check: \\ngroup1 {g1:.2}\\ngroup2 {g2:.2}')\n",
    "\n",
    "print()\n",
    "g1, g2 = equal_odds(RFclf, X_test, target=0)\n",
    "\n",
    "print(f'Random Forest equalised odds check: \\ngroup1 {g1:.2}\\ngroup2 {g2:.2}')"
   ]
  },
  {
   "cell_type": "code",
   "execution_count": 272,
   "metadata": {},
   "outputs": [
    {
     "name": "stdout",
     "output_type": "stream",
     "text": [
      "Logistic Regression equalised outcomes check: \n",
      "group1 0.81\n",
      "group2 0.73\n",
      "\n",
      "Random Forest equalised outcomes check: \n",
      "group1 0.77\n",
      "group2 0.64\n"
     ]
    }
   ],
   "source": [
    "## Selected == True\n",
    "\n",
    "g1, g2 = equal_outcomes(LRclf, X_test)\n",
    "\n",
    "print(f'Logistic Regression equalised outcomes check: \\ngroup1 {g1:.2}\\ngroup2 {g2:.2}')\n",
    "\n",
    "print()\n",
    "g1, g2 = equal_outcomes(RFclf, X_test)\n",
    "\n",
    "print(f'Random Forest equalised outcomes check: \\ngroup1 {g1:.2}\\ngroup2 {g2:.2}')"
   ]
  },
  {
   "cell_type": "code",
   "execution_count": 273,
   "metadata": {},
   "outputs": [
    {
     "name": "stdout",
     "output_type": "stream",
     "text": [
      "Logistic Regression equalised outcomes check: \n",
      "group1 0.25\n",
      "group2 0.23\n",
      "\n",
      "Random Forest equalised outcomes check: \n",
      "group1 0.2\n",
      "group2 0.13\n"
     ]
    }
   ],
   "source": [
    "## Selected == False\n",
    "\n",
    "g1, g2 = equal_outcomes(LRclf, X_test, s=0)\n",
    "\n",
    "print(f'Logistic Regression equalised outcomes check: \\ngroup1 {g1:.2}\\ngroup2 {g2:.2}')\n",
    "\n",
    "print()\n",
    "g1, g2 = equal_outcomes(RFclf, X_test, s=0)\n",
    "\n",
    "print(f'Random Forest equalised outcomes check: \\ngroup1 {g1:.2}\\ngroup2 {g2:.2}')"
   ]
  },
  {
   "cell_type": "markdown",
   "metadata": {},
   "source": [
    "3. Change the classification pipeline to (approximately) fulfill one of the fairness criteria by post-\n",
    "processing the results. How did the intervention influence the different fairness criteria, how \n",
    "did it change the accuracy of the classification?"
   ]
  },
  {
   "cell_type": "code",
   "execution_count": 274,
   "metadata": {},
   "outputs": [
    {
     "data": {
      "text/plain": [
       "array([[0.13811388, 0.86188612],\n",
       "       [0.10930223, 0.89069777],\n",
       "       [0.39819798, 0.60180202],\n",
       "       ...,\n",
       "       [0.03026655, 0.96973345],\n",
       "       [0.52210455, 0.47789545],\n",
       "       [0.45966243, 0.54033757]])"
      ]
     },
     "execution_count": 274,
     "metadata": {},
     "output_type": "execute_result"
    }
   ],
   "source": [
    "LRclf.predict_proba(X_test)"
   ]
  },
  {
   "cell_type": "markdown",
   "metadata": {},
   "source": [
    "## Task 2 (Explaining white-box models)  \n",
    "1. Explain the trained logistic regression model. In particular, discuss which features in the \n",
    "model are deemed most relevant. Reflect on the interpretation. Does it fit your intuition \n",
    "about the prediction task?\n",
    "2. Pick one data point in the test dataset. Find a counterfactual data point that contrasts the \n",
    "outcome of the inference on this data point (e.g., \"had X had feature P >=, then it had been \n",
    "classified as ...\"). Describe how you used the model explanation to find such a counterfactual.\n"
   ]
  },
  {
   "cell_type": "code",
   "execution_count": null,
   "metadata": {},
   "outputs": [],
   "source": [
    "weights = {}\n",
    "for i in range(len(LRclf.coef_[0])):\n",
    "    weights[LRclf.feature_names_in_[i]] = [LRclf.coef_[0][i]]\n",
    "\n",
    "for k,v in weights.items():\n",
    "    weights[k].append(np.exp(v)[0])\n",
    "\n",
    "sorted(weights.items(), key=lambda x: x[1], reverse=True)"
   ]
  },
  {
   "cell_type": "code",
   "execution_count": null,
   "metadata": {},
   "outputs": [],
   "source": [
    "RF_imps = sorted([[round(i,3), j] for i, j in zip(RFclf.feature_importances_, RFclf.feature_names_in_)], reverse=True)\n",
    "\n",
    "RF_imps"
   ]
  },
  {
   "cell_type": "markdown",
   "metadata": {},
   "source": [
    "## Task 3 (Model-agnostic explanations)  \n",
    "1. Both for the white-box and the black-box classifier, use the  shap  module to explain \n",
    "predictions. Contrast the two models to each other: What are similarities, how do they differ?\n",
    "2. For logistic regression, compare the model-agnostic explanation to your analysis in Task 2. \n",
    "How do the explanations differ?"
   ]
  },
  {
   "cell_type": "code",
   "execution_count": null,
   "metadata": {},
   "outputs": [],
   "source": []
  },
  {
   "cell_type": "markdown",
   "metadata": {},
   "source": [
    "## Task 4 (Reflection)  \n",
    "Given the outcome of your study, which classifier is most suited for the prediction task under \n",
    "accuracy, explainability, and fairness considerations?"
   ]
  },
  {
   "cell_type": "code",
   "execution_count": null,
   "metadata": {},
   "outputs": [],
   "source": []
  }
 ],
 "metadata": {
  "interpreter": {
   "hash": "31f2aee4e71d21fbe5cf8b01ff0e069b9275f58929596ceb00d14d90e3e16cd6"
  },
  "kernelspec": {
   "display_name": "Python 3.8.10 64-bit",
   "language": "python",
   "name": "python3"
  },
  "language_info": {
   "codemirror_mode": {
    "name": "ipython",
    "version": 3
   },
   "file_extension": ".py",
   "mimetype": "text/x-python",
   "name": "python",
   "nbconvert_exporter": "python",
   "pygments_lexer": "ipython3",
   "version": "3.11.7"
  },
  "orig_nbformat": 4
 },
 "nbformat": 4,
 "nbformat_minor": 2
}
