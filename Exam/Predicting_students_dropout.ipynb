{
 "cells": [
  {
   "cell_type": "code",
   "execution_count": 1,
   "id": "bf5d0967-0c48-42b0-9e6f-6688235d7e0c",
   "metadata": {
    "id": "bf5d0967-0c48-42b0-9e6f-6688235d7e0c"
   },
   "outputs": [],
   "source": [
    "import pandas as pd\n",
    "import numpy as np\n",
    "import seaborn as sns\n",
    "import matplotlib.pyplot as plt\n",
    "from scipy.stats import  pearsonr, spearmanr\n",
    "from sklearn.preprocessing import StandardScaler\n",
    "from sklearn.model_selection import train_test_split\n",
    "from sklearn.linear_model import LogisticRegression\n",
    "from sklearn.model_selection import train_test_split, KFold, cross_val_score\n",
    "from sklearn.metrics import balanced_accuracy_score, f1_score, accuracy_score, make_scorer\n",
    "from sklearn.pipeline import make_pipeline\n",
    "import scipy\n",
    "import os\n",
    "\n",
    "from ucimlrepo import fetch_ucirepo"
   ]
  },
  {
   "cell_type": "code",
   "execution_count": 2,
   "id": "d18d0675-6955-4d49-90bf-f31acd2ee5b2",
   "metadata": {
    "id": "d18d0675-6955-4d49-90bf-f31acd2ee5b2"
   },
   "outputs": [],
   "source": [
    "seed = 0\n",
    "np.random.seed(seed)\n",
    "os.environ['PYTHONHASHSEED']=str(seed)"
   ]
  },
  {
   "cell_type": "markdown",
   "id": "93391512-8d7e-43d6-8c96-30d5b1336f8e",
   "metadata": {
    "id": "93391512-8d7e-43d6-8c96-30d5b1336f8e"
   },
   "source": [
    "# Functions\n",
    "- Data Processing Functions\n",
    "- Model Evaluation Functions\n",
    "- Visualization Functions"
   ]
  },
  {
   "cell_type": "markdown",
   "id": "6aa1db2e-81ab-47bd-aefa-e4cbd086ca9a",
   "metadata": {
    "id": "6aa1db2e-81ab-47bd-aefa-e4cbd086ca9a"
   },
   "source": [
    "## Data Processing Functions\n",
    "- load_data()\n",
    "- get_test_and_training_data(test_size=0.2)"
   ]
  },
  {
   "cell_type": "code",
   "execution_count": 3,
   "id": "c4bbff4f-9dee-4bbe-9301-7c34e75e228b",
   "metadata": {
    "id": "c4bbff4f-9dee-4bbe-9301-7c34e75e228b"
   },
   "outputs": [],
   "source": [
    "## groups are right now 'mother_occupation' and 'Gender'\n",
    "## HOW SHOULD WE LOAD THE DATA?\n",
    "def load_data():\n",
    "    predict_students_dropout_and_academic_success = fetch_ucirepo(id=697)\n",
    "    df = predict_students_dropout_and_academic_success.data.features\n",
    "\n",
    "    ## Remove Features related to Curricular units\n",
    "    df = df[['Marital Status', 'Application mode', 'Application order', 'Course',\n",
    "           'Daytime/evening attendance', 'Previous qualification',\n",
    "           'Previous qualification (grade)',\n",
    "           'Admission grade', 'Displaced', 'Educational special needs', 'Debtor',\n",
    "           'Tuition fees up to date',\n",
    "           'International', 'Unemployment rate',\n",
    "           'Inflation rate', 'GDP',\n",
    "           \"Mother's qualification\", \"Father's qualification\",\n",
    "           \"Mother's occupation\", \"Father's occupation\",\n",
    "           'Scholarship holder', 'Age at enrollment', 'Nacionality', 'Gender']]\n",
    "\n",
    "\n",
    "    df_init = df.copy() # TODO: decide wether this is needed\n",
    "\n",
    "    # Make a binary column for dropout\n",
    "    data_y = predict_students_dropout_and_academic_success.data.targets\n",
    "    data_y = data_y.Target.apply(lambda x: 1 if x == 'Dropout' else 0)\n",
    "    df['Dropout'] = data_y\n",
    "\n",
    "    # # Make a binary column for mother's and father's class based on their occupations\n",
    "    # # TODO: check these idx\n",
    "    # mother_upper_class_occupation = [\n",
    "    #     1, 2, 122, 123, 125, 131, 132, 134, 141, 143, 144, 153, 173\n",
    "    # ]\n",
    "    # father_upper_class_occupations = [\n",
    "    #     1, 2, 101, 112, 114, 121, 122, 123, 124, 131, 132, 134, 135, 141,\n",
    "    #     143, 144, 151, 152, 153, 154, 161, 171, 172, 174, 175, 181, 182\n",
    "    # ]\n",
    "\n",
    "    # mother_occupation = np.asarray(df.mother_occupation)\n",
    "    # mother_upper_class_values = [1 if occ in mother_upper_class_occupation else 0 for occ in mother_occupation]\n",
    "    # father_occupation = np.asarray(df.father_occupation)\n",
    "    # father_upper_class_values = [1 if occ in father_upper_class_occupations else 0 for occ in father_occupation]\n",
    "    # df['mother_upper_class'] = mother_upper_class_values\n",
    "    # df['father_upper_class'] = father_upper_class_values\n",
    "\n",
    "    # # Remove \"Mother's occupation\" and \"Father's occupation\" columns\n",
    "    # df.drop(columns=[\"Mother's occupation\", \"Father's occupation\"], axis=1, inplace=True)\n",
    "\n",
    "    # Make a binary column for portuguese\n",
    "    nationality = np.asarray(df.Nacionality)\n",
    "    is_portuguese_values = [1 if n == 1 else 0 for n in nationality]\n",
    "    df['is_portuguese'] = is_portuguese_values\n",
    "\n",
    "    # Remove \"Nacionality\" columns\n",
    "    df.drop(columns=[\"Nacionality\"], axis=1, inplace=True)\n",
    "\n",
    "\n",
    "    protected_cols = ['Gender', 'is_portuguese'] # TODO: do something with parents qualitifcation and occupation?? Or other categories\n",
    "\n",
    "    labels = df[['Dropout']]\n",
    "    groups = df[protected_cols]\n",
    "\n",
    "    features_full = df.copy()\n",
    "    df.drop('Dropout', axis=1, inplace=True)\n",
    "    features = df.copy()\n",
    "    features_protected = pd.concat([df[x] for x in protected_cols], axis=1)\n",
    "\n",
    "    for x in protected_cols:\n",
    "      df = df.drop(x, axis=1)\n",
    "\n",
    "    features_np = df.copy()\n",
    "\n",
    "    return features, features_full, labels, groups, features_np, features_protected, protected_cols\n",
    "\n",
    "\n",
    "def get_test_and_training_data(features, labels, protected_cols=[], test_size=0.2):\n",
    "    ## This code is adapted from solution to data debias exercises\n",
    "    X, y = features, labels\n",
    "    X_train, X_test, y_train, y_test = train_test_split(X, y, test_size=test_size, random_state=seed)\n",
    "\n",
    "    X_train_init = X_train.copy()\n",
    "    X_test_init = X_test.copy()\n",
    "\n",
    "    # Subset for protected and non-protected features\n",
    "    X_train_p = X_train[protected_cols]\n",
    "    X_train_np = X_train.drop(columns=protected_cols)\n",
    "    X_test_p = X_test[protected_cols]\n",
    "    X_test_np = X_test.drop(columns=protected_cols)\n",
    "\n",
    "    return X_train_init, X_test_init, y_train, y_test, X_train_p, X_train_np, X_test_p, X_test_np\n"
   ]
  },
  {
   "cell_type": "markdown",
   "id": "c2c6GE87oTLK",
   "metadata": {
    "id": "c2c6GE87oTLK"
   },
   "source": [
    "### A Geometric Solution to Fair Representations"
   ]
  },
  {
   "cell_type": "code",
   "execution_count": 4,
   "id": "bnLoOISY4u9g",
   "metadata": {
    "id": "bnLoOISY4u9g"
   },
   "outputs": [],
   "source": [
    "def debias_features(X, protected_idx, l=0):\n",
    "    '''Based on exercises. Debias using de-correllation'''\n",
    "\n",
    "    #FunctionTransfomer makes it an array and I want it to be a dataFrame\n",
    "    X = pd.DataFrame(X) #This makes no difference\n",
    "\n",
    "    X_p = X[protected_idx]\n",
    "    X_np = X.copy().drop(columns=protected_idx)\n",
    "\n",
    "    # Find the basis from the protected attributes\n",
    "    orthbasis = scipy.linalg.orth(X_p)\n",
    "\n",
    "    # Debias nonprotected features by projecting them onto the basis\n",
    "    X_np_debiased = X_np - orthbasis @ orthbasis.T @ X_np\n",
    "\n",
    "    # Return debiased nonprotected features, tempered by lambda: r′_j(λ) = r_j + λ⋅ (x_j− r_j)\n",
    "    return pd.DataFrame(X_np_debiased + l * (X_np - X_np_debiased))\n"
   ]
  },
  {
   "cell_type": "markdown",
   "id": "e60abbb8-af54-422b-96ec-1e28c8c1d1dd",
   "metadata": {
    "id": "e60abbb8-af54-422b-96ec-1e28c8c1d1dd"
   },
   "source": [
    "## Model Evaluation Functions\n",
    "- standard_scale\n",
    "- cross_validator\n",
    "- fairness metrics"
   ]
  },
  {
   "cell_type": "code",
   "execution_count": 5,
   "id": "g1Qazd9RAT4F",
   "metadata": {
    "id": "g1Qazd9RAT4F"
   },
   "outputs": [],
   "source": [
    "def standard_scale(X_train, X_test): ## We need to scale within the cross val step to avoid data leakage\n",
    "    scaler = StandardScaler()\n",
    "    scaler.fit(X_train)\n",
    "    X_train = pd.DataFrame(scaler.transform(X_train))\n",
    "    X_test = pd.DataFrame(scaler.transform(X_test))\n",
    "    return X_train, X_test"
   ]
  },
  {
   "cell_type": "code",
   "execution_count": 6,
   "id": "tiagQmB6yHLO",
   "metadata": {
    "id": "tiagQmB6yHLO"
   },
   "outputs": [],
   "source": [
    "def cross_validator(model, X, y, protected_cols=[], n=5, debias=False, lambd=0):\n",
    "    kfold = KFold(n, shuffle=True, random_state=seed)\n",
    "\n",
    "    y_hat = np.zeros(len(y))\n",
    "\n",
    "    for train_idx, test_idx in kfold.split(X, y): ## Split based on both X and y\n",
    "        X_train, y_train = X.iloc[train_idx], y.iloc[train_idx]\n",
    "        X_test, y_test = X.iloc[test_idx], y.iloc[test_idx]\n",
    "\n",
    "        X_train, X_test = standard_scale(X_train, X_test)\n",
    "\n",
    "        if debias:\n",
    "          protected_idx = [X.columns.get_loc(col) for col in protected_cols]\n",
    "          X_train = debias_features(X_train, protected_idx, l=lambd) # using decorrelation\n",
    "          X_test = X_test.copy().drop(columns=protected_idx)\n",
    "\n",
    "        model = model.fit(X_train, y_train)\n",
    "        y_hat[test_idx] = model.predict(X_test)\n",
    "\n",
    "    return y_hat"
   ]
  },
  {
   "cell_type": "markdown",
   "id": "xa2ZZUWnJQLN",
   "metadata": {
    "id": "xa2ZZUWnJQLN"
   },
   "source": [
    "### Fairness Metrics"
   ]
  },
  {
   "cell_type": "code",
   "execution_count": 7,
   "id": "8cJeiRl-Hbl4",
   "metadata": {
    "id": "8cJeiRl-Hbl4"
   },
   "outputs": [],
   "source": [
    "''' Based on lecture 3 '''\n",
    "def group_idx(group_test):\n",
    "  group_one_idx = [1 for _ in range(len(group_test))]\n",
    "  group_two_idx = [0 for _ in range(len(group_test))]\n",
    "  return group_one_idx, group_two_idx\n",
    "\n",
    "def statistical_parity(y_hat, group_test):\n",
    "  group_one_idx, group_two_idx = group_idx()\n",
    "  one_select = np.mean(y_hat[(group_test == group_one_idx).flatten()])\n",
    "  two_select = np.mean(y_hat[(group_test == group_two_idx).flatten()])\n",
    "  statistical_parity = one_select == two_select\n",
    "  return (statistical_parity, two_select, one_select)\n",
    "\n",
    "def equalized_odds(y_hat, y_test, group_test):\n",
    "  group_one_idx, group_two_idx = group_idx()\n",
    "\n",
    "  one_tpr_0 = np.mean(y_hat[(y_test == 0) & (group_test == group_one_idx).flatten()])\n",
    "  two_tpr_0 = np.mean(y_hat[(y_test == 0) & (group_test == group_two_idx).flatten()])\n",
    "  one_tpr_1 = np.mean(y_hat[(y_test == 1) & (group_test == group_one_idx).flatten()])\n",
    "  two_tpr_1 = np.mean(y_hat[(y_test == 1) & (group_test == group_two_idx).flatten()])\n",
    "\n",
    "  equalized_odds = ((one_tpr_0 == two_tpr_0), (one_tpr_1 == two_tpr_1))\n",
    "  return (equalized_odds, (two_tpr_0, one_tpr_0), (two_tpr_1, one_tpr_1))\n",
    "\n",
    "\n",
    "def equal_outcome(y_hat, y_test, group_test):\n",
    "  group_one_idx, group_two_idx = group_idx()\n",
    "  one_ppr_0 = np.mean(y_test[(y_hat == 0) & (group_test == group_one_idx).flatten()])\n",
    "  two_ppr_0 = np.mean(y_test[(y_hat == 0) & (group_test == group_two_idx).flatten()])\n",
    "  one_ppr_1 = np.mean(y_test[(y_hat == 1) & (group_test == group_one_idx).flatten()])\n",
    "  two_ppr_1 = np.mean(y_test[(y_hat == 1) & (group_test == group_two_idx).flatten()])\n",
    "\n",
    "  fpr = one_ppr_0 == two_ppr_0\n",
    "  tpr = one_ppr_1 == two_ppr_1\n",
    "  equalized_outcome = (fpr, tpr)\n",
    "  return (equalized_outcome, (two_ppr_0, one_ppr_0), (two_ppr_1, one_ppr_1)) # first s=0, then s=1\n"
   ]
  },
  {
   "cell_type": "markdown",
   "id": "7f4c1e0a-dff2-4e27-a710-94cf07f6d2bc",
   "metadata": {
    "id": "7f4c1e0a-dff2-4e27-a710-94cf07f6d2bc"
   },
   "source": [
    "## Visualization Functions"
   ]
  },
  {
   "cell_type": "code",
   "execution_count": 8,
   "id": "49eed1ee-5674-499f-9038-6547002d3214",
   "metadata": {
    "id": "49eed1ee-5674-499f-9038-6547002d3214"
   },
   "outputs": [],
   "source": [
    "def corr_mat(X, method='pearson'):\n",
    "    '''The code is adapted from solution to data debias exercises\n",
    "    Takes a dataframe and computes the correlations, and their\n",
    "    statistical significance between all features,\n",
    "    returning 2 arrays: correlations, and p_values'''\n",
    "    scaler = StandardScaler()\n",
    "    X = scaler.fit_transform(X)\n",
    "\n",
    "    # Compute correlation matrix\n",
    "    n_features = X.shape[1]\n",
    "\n",
    "    corr_ = np.zeros((n_features, n_features))\n",
    "    p_ = np.zeros((n_features, n_features))\n",
    "\n",
    "    if method == 'pearson':\n",
    "        corr_func = pearsonr\n",
    "    elif method == 'spearman':\n",
    "        corr_func = spearmanr\n",
    "    else:\n",
    "        raise ValueError(\"Unsupported correlation method. Supported methods are 'pearson' and 'spearman'.\")\n",
    "\n",
    "    for i in range(n_features):\n",
    "        for j in range(n_features):\n",
    "            corr_[i,j], p_[i,j] = corr_func(X[:,i], X[:,j])\n",
    "            corr_ = np.nan_to_num(corr_, 0)\n",
    "            # Handle NaN values in correlation coefficient by setting p-value to 1\n",
    "            if np.isnan(corr_[i,j]):\n",
    "                p_[i,j] = 1\n",
    "\n",
    "    return corr_, p_\n",
    "\n",
    "def plot_corr(df, method='pearson', protected_cols=[], show_protected_features=False):\n",
    "    corr, p = corr_mat(df, method)\n",
    "\n",
    "    alpha = 0.05 # Significance level\n",
    "    corrected_alpha = alpha / (df.shape[1]**2/2) #bonferronni correction,\n",
    "\n",
    "    if show_protected_features:\n",
    "      plt.figure(figsize=(len(protected_cols),9))\n",
    "\n",
    "      protected_idx = [df.columns.get_loc(col) for col in protected_cols]\n",
    "\n",
    "      sns.heatmap(corr[:, protected_idx], cmap=\"coolwarm\", xticklabels=df.columns[protected_idx], yticklabels=df.columns,\n",
    "            mask = p[:, protected_idx]  > corrected_alpha, vmin=-1, vmax=1, square=True)\n",
    "    else:\n",
    "      plt.figure(figsize=(15,15))\n",
    "      sns.heatmap(corr, cmap=\"coolwarm\",\n",
    "                  xticklabels=df.columns, yticklabels=df.columns,\n",
    "                  square=True, vmin=-1, vmax=1, mask= p > corrected_alpha)\n",
    "\n",
    "    corr_name = \"\"\n",
    "    if method == 'pearson':\n",
    "        corr_name = \"Pearson's \"\n",
    "    elif method == 'spearman':\n",
    "        corr_name = \"Spearman's \"\n",
    "    else:\n",
    "        raise ValueError(\"Unsupported correlation method. Supported methods are 'pearson' and 'spearman'.\")\n",
    "\n",
    "    plt.title(f\"{corr_name}Correlation Coeff between all features (filtered by p > {alpha})\")\n",
    "    plt.show()"
   ]
  },
  {
   "cell_type": "markdown",
   "id": "myj2LSn0nMuL",
   "metadata": {
    "id": "myj2LSn0nMuL"
   },
   "source": [
    "# Load Data"
   ]
  },
  {
   "cell_type": "code",
   "execution_count": 9,
   "id": "fY5RtUGNnRLf",
   "metadata": {
    "colab": {
     "base_uri": "https://localhost:8080/"
    },
    "id": "fY5RtUGNnRLf",
    "outputId": "aef72403-d572-486b-c09c-96f00e121a31"
   },
   "outputs": [
    {
     "name": "stderr",
     "output_type": "stream",
     "text": [
      "/var/folders/xd/wqwh0fmd6ss4z2j1hvdztrrm0000gn/T/ipykernel_98883/115757629.py:25: SettingWithCopyWarning: \n",
      "A value is trying to be set on a copy of a slice from a DataFrame.\n",
      "Try using .loc[row_indexer,col_indexer] = value instead\n",
      "\n",
      "See the caveats in the documentation: https://pandas.pydata.org/pandas-docs/stable/user_guide/indexing.html#returning-a-view-versus-a-copy\n",
      "  df['Dropout'] = data_y\n",
      "/var/folders/xd/wqwh0fmd6ss4z2j1hvdztrrm0000gn/T/ipykernel_98883/115757629.py:50: SettingWithCopyWarning: \n",
      "A value is trying to be set on a copy of a slice from a DataFrame.\n",
      "Try using .loc[row_indexer,col_indexer] = value instead\n",
      "\n",
      "See the caveats in the documentation: https://pandas.pydata.org/pandas-docs/stable/user_guide/indexing.html#returning-a-view-versus-a-copy\n",
      "  df['is_portuguese'] = is_portuguese_values\n",
      "/var/folders/xd/wqwh0fmd6ss4z2j1hvdztrrm0000gn/T/ipykernel_98883/115757629.py:53: SettingWithCopyWarning: \n",
      "A value is trying to be set on a copy of a slice from a DataFrame\n",
      "\n",
      "See the caveats in the documentation: https://pandas.pydata.org/pandas-docs/stable/user_guide/indexing.html#returning-a-view-versus-a-copy\n",
      "  df.drop(columns=[\"Nacionality\"], axis=1, inplace=True)\n",
      "/var/folders/xd/wqwh0fmd6ss4z2j1hvdztrrm0000gn/T/ipykernel_98883/115757629.py:62: SettingWithCopyWarning: \n",
      "A value is trying to be set on a copy of a slice from a DataFrame\n",
      "\n",
      "See the caveats in the documentation: https://pandas.pydata.org/pandas-docs/stable/user_guide/indexing.html#returning-a-view-versus-a-copy\n",
      "  df.drop('Dropout', axis=1, inplace=True)\n"
     ]
    }
   ],
   "source": [
    "features, features_full, labels, groups, features_np, features_protected, protected_cols = load_data()\n",
    "X_train, X_test, y_train, y_test, X_train_p, X_train_np, X_test_p, X_test_np = get_test_and_training_data(features, labels, protected_cols=protected_cols)"
   ]
  },
  {
   "cell_type": "markdown",
   "id": "Qs1XqacGmePY",
   "metadata": {
    "id": "Qs1XqacGmePY"
   },
   "source": [
    "# Exploratory Data Analysis (EDA)"
   ]
  },
  {
   "cell_type": "code",
   "execution_count": 10,
   "id": "KNYoQU2pm2CN",
   "metadata": {
    "id": "KNYoQU2pm2CN"
   },
   "outputs": [
    {
     "data": {
      "text/html": [
       "<div>\n",
       "<style scoped>\n",
       "    .dataframe tbody tr th:only-of-type {\n",
       "        vertical-align: middle;\n",
       "    }\n",
       "\n",
       "    .dataframe tbody tr th {\n",
       "        vertical-align: top;\n",
       "    }\n",
       "\n",
       "    .dataframe thead th {\n",
       "        text-align: right;\n",
       "    }\n",
       "</style>\n",
       "<table border=\"1\" class=\"dataframe\">\n",
       "  <thead>\n",
       "    <tr style=\"text-align: right;\">\n",
       "      <th></th>\n",
       "      <th>count</th>\n",
       "      <th>mean</th>\n",
       "      <th>std</th>\n",
       "      <th>min</th>\n",
       "      <th>25%</th>\n",
       "      <th>50%</th>\n",
       "      <th>75%</th>\n",
       "      <th>max</th>\n",
       "    </tr>\n",
       "  </thead>\n",
       "  <tbody>\n",
       "    <tr>\n",
       "      <th>Marital Status</th>\n",
       "      <td>4424.0</td>\n",
       "      <td>1.178571</td>\n",
       "      <td>0.605747</td>\n",
       "      <td>1.00</td>\n",
       "      <td>1.0</td>\n",
       "      <td>1.00</td>\n",
       "      <td>1.00</td>\n",
       "      <td>6.00</td>\n",
       "    </tr>\n",
       "    <tr>\n",
       "      <th>Application mode</th>\n",
       "      <td>4424.0</td>\n",
       "      <td>18.669078</td>\n",
       "      <td>17.484682</td>\n",
       "      <td>1.00</td>\n",
       "      <td>1.0</td>\n",
       "      <td>17.00</td>\n",
       "      <td>39.00</td>\n",
       "      <td>57.00</td>\n",
       "    </tr>\n",
       "    <tr>\n",
       "      <th>Application order</th>\n",
       "      <td>4424.0</td>\n",
       "      <td>1.727848</td>\n",
       "      <td>1.313793</td>\n",
       "      <td>0.00</td>\n",
       "      <td>1.0</td>\n",
       "      <td>1.00</td>\n",
       "      <td>2.00</td>\n",
       "      <td>9.00</td>\n",
       "    </tr>\n",
       "    <tr>\n",
       "      <th>Course</th>\n",
       "      <td>4424.0</td>\n",
       "      <td>8856.642631</td>\n",
       "      <td>2063.566416</td>\n",
       "      <td>33.00</td>\n",
       "      <td>9085.0</td>\n",
       "      <td>9238.00</td>\n",
       "      <td>9556.00</td>\n",
       "      <td>9991.00</td>\n",
       "    </tr>\n",
       "    <tr>\n",
       "      <th>Daytime/evening attendance</th>\n",
       "      <td>4424.0</td>\n",
       "      <td>0.890823</td>\n",
       "      <td>0.311897</td>\n",
       "      <td>0.00</td>\n",
       "      <td>1.0</td>\n",
       "      <td>1.00</td>\n",
       "      <td>1.00</td>\n",
       "      <td>1.00</td>\n",
       "    </tr>\n",
       "    <tr>\n",
       "      <th>Previous qualification</th>\n",
       "      <td>4424.0</td>\n",
       "      <td>4.577758</td>\n",
       "      <td>10.216592</td>\n",
       "      <td>1.00</td>\n",
       "      <td>1.0</td>\n",
       "      <td>1.00</td>\n",
       "      <td>1.00</td>\n",
       "      <td>43.00</td>\n",
       "    </tr>\n",
       "    <tr>\n",
       "      <th>Previous qualification (grade)</th>\n",
       "      <td>4424.0</td>\n",
       "      <td>132.613314</td>\n",
       "      <td>13.188332</td>\n",
       "      <td>95.00</td>\n",
       "      <td>125.0</td>\n",
       "      <td>133.10</td>\n",
       "      <td>140.00</td>\n",
       "      <td>190.00</td>\n",
       "    </tr>\n",
       "    <tr>\n",
       "      <th>Admission grade</th>\n",
       "      <td>4424.0</td>\n",
       "      <td>126.978119</td>\n",
       "      <td>14.482001</td>\n",
       "      <td>95.00</td>\n",
       "      <td>117.9</td>\n",
       "      <td>126.10</td>\n",
       "      <td>134.80</td>\n",
       "      <td>190.00</td>\n",
       "    </tr>\n",
       "    <tr>\n",
       "      <th>Displaced</th>\n",
       "      <td>4424.0</td>\n",
       "      <td>0.548373</td>\n",
       "      <td>0.497711</td>\n",
       "      <td>0.00</td>\n",
       "      <td>0.0</td>\n",
       "      <td>1.00</td>\n",
       "      <td>1.00</td>\n",
       "      <td>1.00</td>\n",
       "    </tr>\n",
       "    <tr>\n",
       "      <th>Educational special needs</th>\n",
       "      <td>4424.0</td>\n",
       "      <td>0.011528</td>\n",
       "      <td>0.106760</td>\n",
       "      <td>0.00</td>\n",
       "      <td>0.0</td>\n",
       "      <td>0.00</td>\n",
       "      <td>0.00</td>\n",
       "      <td>1.00</td>\n",
       "    </tr>\n",
       "    <tr>\n",
       "      <th>Debtor</th>\n",
       "      <td>4424.0</td>\n",
       "      <td>0.113698</td>\n",
       "      <td>0.317480</td>\n",
       "      <td>0.00</td>\n",
       "      <td>0.0</td>\n",
       "      <td>0.00</td>\n",
       "      <td>0.00</td>\n",
       "      <td>1.00</td>\n",
       "    </tr>\n",
       "    <tr>\n",
       "      <th>Tuition fees up to date</th>\n",
       "      <td>4424.0</td>\n",
       "      <td>0.880651</td>\n",
       "      <td>0.324235</td>\n",
       "      <td>0.00</td>\n",
       "      <td>1.0</td>\n",
       "      <td>1.00</td>\n",
       "      <td>1.00</td>\n",
       "      <td>1.00</td>\n",
       "    </tr>\n",
       "    <tr>\n",
       "      <th>International</th>\n",
       "      <td>4424.0</td>\n",
       "      <td>0.024864</td>\n",
       "      <td>0.155729</td>\n",
       "      <td>0.00</td>\n",
       "      <td>0.0</td>\n",
       "      <td>0.00</td>\n",
       "      <td>0.00</td>\n",
       "      <td>1.00</td>\n",
       "    </tr>\n",
       "    <tr>\n",
       "      <th>Unemployment rate</th>\n",
       "      <td>4424.0</td>\n",
       "      <td>11.566139</td>\n",
       "      <td>2.663850</td>\n",
       "      <td>7.60</td>\n",
       "      <td>9.4</td>\n",
       "      <td>11.10</td>\n",
       "      <td>13.90</td>\n",
       "      <td>16.20</td>\n",
       "    </tr>\n",
       "    <tr>\n",
       "      <th>Inflation rate</th>\n",
       "      <td>4424.0</td>\n",
       "      <td>1.228029</td>\n",
       "      <td>1.382711</td>\n",
       "      <td>-0.80</td>\n",
       "      <td>0.3</td>\n",
       "      <td>1.40</td>\n",
       "      <td>2.60</td>\n",
       "      <td>3.70</td>\n",
       "    </tr>\n",
       "    <tr>\n",
       "      <th>GDP</th>\n",
       "      <td>4424.0</td>\n",
       "      <td>0.001969</td>\n",
       "      <td>2.269935</td>\n",
       "      <td>-4.06</td>\n",
       "      <td>-1.7</td>\n",
       "      <td>0.32</td>\n",
       "      <td>1.79</td>\n",
       "      <td>3.51</td>\n",
       "    </tr>\n",
       "    <tr>\n",
       "      <th>Mother's qualification</th>\n",
       "      <td>4424.0</td>\n",
       "      <td>19.561935</td>\n",
       "      <td>15.603186</td>\n",
       "      <td>1.00</td>\n",
       "      <td>2.0</td>\n",
       "      <td>19.00</td>\n",
       "      <td>37.00</td>\n",
       "      <td>44.00</td>\n",
       "    </tr>\n",
       "    <tr>\n",
       "      <th>Father's qualification</th>\n",
       "      <td>4424.0</td>\n",
       "      <td>22.275316</td>\n",
       "      <td>15.343108</td>\n",
       "      <td>1.00</td>\n",
       "      <td>3.0</td>\n",
       "      <td>19.00</td>\n",
       "      <td>37.00</td>\n",
       "      <td>44.00</td>\n",
       "    </tr>\n",
       "    <tr>\n",
       "      <th>Mother's occupation</th>\n",
       "      <td>4424.0</td>\n",
       "      <td>10.960895</td>\n",
       "      <td>26.418253</td>\n",
       "      <td>0.00</td>\n",
       "      <td>4.0</td>\n",
       "      <td>5.00</td>\n",
       "      <td>9.00</td>\n",
       "      <td>194.00</td>\n",
       "    </tr>\n",
       "    <tr>\n",
       "      <th>Father's occupation</th>\n",
       "      <td>4424.0</td>\n",
       "      <td>11.032324</td>\n",
       "      <td>25.263040</td>\n",
       "      <td>0.00</td>\n",
       "      <td>4.0</td>\n",
       "      <td>7.00</td>\n",
       "      <td>9.00</td>\n",
       "      <td>195.00</td>\n",
       "    </tr>\n",
       "    <tr>\n",
       "      <th>Scholarship holder</th>\n",
       "      <td>4424.0</td>\n",
       "      <td>0.248418</td>\n",
       "      <td>0.432144</td>\n",
       "      <td>0.00</td>\n",
       "      <td>0.0</td>\n",
       "      <td>0.00</td>\n",
       "      <td>0.00</td>\n",
       "      <td>1.00</td>\n",
       "    </tr>\n",
       "    <tr>\n",
       "      <th>Age at enrollment</th>\n",
       "      <td>4424.0</td>\n",
       "      <td>23.265145</td>\n",
       "      <td>7.587816</td>\n",
       "      <td>17.00</td>\n",
       "      <td>19.0</td>\n",
       "      <td>20.00</td>\n",
       "      <td>25.00</td>\n",
       "      <td>70.00</td>\n",
       "    </tr>\n",
       "    <tr>\n",
       "      <th>Gender</th>\n",
       "      <td>4424.0</td>\n",
       "      <td>0.351718</td>\n",
       "      <td>0.477560</td>\n",
       "      <td>0.00</td>\n",
       "      <td>0.0</td>\n",
       "      <td>0.00</td>\n",
       "      <td>1.00</td>\n",
       "      <td>1.00</td>\n",
       "    </tr>\n",
       "    <tr>\n",
       "      <th>Dropout</th>\n",
       "      <td>4424.0</td>\n",
       "      <td>0.321203</td>\n",
       "      <td>0.466991</td>\n",
       "      <td>0.00</td>\n",
       "      <td>0.0</td>\n",
       "      <td>0.00</td>\n",
       "      <td>1.00</td>\n",
       "      <td>1.00</td>\n",
       "    </tr>\n",
       "    <tr>\n",
       "      <th>is_portuguese</th>\n",
       "      <td>4424.0</td>\n",
       "      <td>0.975136</td>\n",
       "      <td>0.155729</td>\n",
       "      <td>0.00</td>\n",
       "      <td>1.0</td>\n",
       "      <td>1.00</td>\n",
       "      <td>1.00</td>\n",
       "      <td>1.00</td>\n",
       "    </tr>\n",
       "  </tbody>\n",
       "</table>\n",
       "</div>"
      ],
      "text/plain": [
       "                                 count         mean          std    min  \\\n",
       "Marital Status                  4424.0     1.178571     0.605747   1.00   \n",
       "Application mode                4424.0    18.669078    17.484682   1.00   \n",
       "Application order               4424.0     1.727848     1.313793   0.00   \n",
       "Course                          4424.0  8856.642631  2063.566416  33.00   \n",
       "Daytime/evening attendance      4424.0     0.890823     0.311897   0.00   \n",
       "Previous qualification          4424.0     4.577758    10.216592   1.00   \n",
       "Previous qualification (grade)  4424.0   132.613314    13.188332  95.00   \n",
       "Admission grade                 4424.0   126.978119    14.482001  95.00   \n",
       "Displaced                       4424.0     0.548373     0.497711   0.00   \n",
       "Educational special needs       4424.0     0.011528     0.106760   0.00   \n",
       "Debtor                          4424.0     0.113698     0.317480   0.00   \n",
       "Tuition fees up to date         4424.0     0.880651     0.324235   0.00   \n",
       "International                   4424.0     0.024864     0.155729   0.00   \n",
       "Unemployment rate               4424.0    11.566139     2.663850   7.60   \n",
       "Inflation rate                  4424.0     1.228029     1.382711  -0.80   \n",
       "GDP                             4424.0     0.001969     2.269935  -4.06   \n",
       "Mother's qualification          4424.0    19.561935    15.603186   1.00   \n",
       "Father's qualification          4424.0    22.275316    15.343108   1.00   \n",
       "Mother's occupation             4424.0    10.960895    26.418253   0.00   \n",
       "Father's occupation             4424.0    11.032324    25.263040   0.00   \n",
       "Scholarship holder              4424.0     0.248418     0.432144   0.00   \n",
       "Age at enrollment               4424.0    23.265145     7.587816  17.00   \n",
       "Gender                          4424.0     0.351718     0.477560   0.00   \n",
       "Dropout                         4424.0     0.321203     0.466991   0.00   \n",
       "is_portuguese                   4424.0     0.975136     0.155729   0.00   \n",
       "\n",
       "                                   25%      50%      75%      max  \n",
       "Marital Status                     1.0     1.00     1.00     6.00  \n",
       "Application mode                   1.0    17.00    39.00    57.00  \n",
       "Application order                  1.0     1.00     2.00     9.00  \n",
       "Course                          9085.0  9238.00  9556.00  9991.00  \n",
       "Daytime/evening attendance         1.0     1.00     1.00     1.00  \n",
       "Previous qualification             1.0     1.00     1.00    43.00  \n",
       "Previous qualification (grade)   125.0   133.10   140.00   190.00  \n",
       "Admission grade                  117.9   126.10   134.80   190.00  \n",
       "Displaced                          0.0     1.00     1.00     1.00  \n",
       "Educational special needs          0.0     0.00     0.00     1.00  \n",
       "Debtor                             0.0     0.00     0.00     1.00  \n",
       "Tuition fees up to date            1.0     1.00     1.00     1.00  \n",
       "International                      0.0     0.00     0.00     1.00  \n",
       "Unemployment rate                  9.4    11.10    13.90    16.20  \n",
       "Inflation rate                     0.3     1.40     2.60     3.70  \n",
       "GDP                               -1.7     0.32     1.79     3.51  \n",
       "Mother's qualification             2.0    19.00    37.00    44.00  \n",
       "Father's qualification             3.0    19.00    37.00    44.00  \n",
       "Mother's occupation                4.0     5.00     9.00   194.00  \n",
       "Father's occupation                4.0     7.00     9.00   195.00  \n",
       "Scholarship holder                 0.0     0.00     0.00     1.00  \n",
       "Age at enrollment                 19.0    20.00    25.00    70.00  \n",
       "Gender                             0.0     0.00     1.00     1.00  \n",
       "Dropout                            0.0     0.00     1.00     1.00  \n",
       "is_portuguese                      1.0     1.00     1.00     1.00  "
      ]
     },
     "execution_count": 10,
     "metadata": {},
     "output_type": "execute_result"
    }
   ],
   "source": [
    "features_full.describe().T"
   ]
  },
  {
   "cell_type": "code",
   "execution_count": 11,
   "id": "pioRvzNz64Mg",
   "metadata": {
    "colab": {
     "base_uri": "https://localhost:8080/",
     "height": 513
    },
    "id": "pioRvzNz64Mg",
    "outputId": "72957a5c-1300-4c0b-9986-c298b0e23771"
   },
   "outputs": [
    {
     "data": {
      "image/png": "[encoded data removed]",
      "text/plain": [
       "<Figure size 567.486x500 with 6 Axes>"
      ]
     },
     "metadata": {},
     "output_type": "display_data"
    }
   ],
   "source": [
    "sns.pairplot(data=features_full, x_vars=protected_cols, y_vars=protected_cols, hue='Dropout', diag_kind='kde');"
   ]
  },
  {
   "cell_type": "code",
   "execution_count": 12,
   "id": "x3ufMYoS7nOz",
   "metadata": {
    "colab": {
     "base_uri": "https://localhost:8080/",
     "height": 534
    },
    "id": "x3ufMYoS7nOz",
    "outputId": "1b138ba0-5897-48b3-88c2-64921e4b2910"
   },
   "outputs": [
    {
     "name": "stdout",
     "output_type": "stream",
     "text": [
      "                Course\n",
      "Gender Dropout        \n",
      "0      0          2148\n",
      "       1           720\n",
      "1      0           855\n",
      "       1           701\n"
     ]
    },
    {
     "data": {
      "image/png": "[encoded data removed]",
      "text/plain": [
       "<Figure size 640x480 with 1 Axes>"
      ]
     },
     "metadata": {},
     "output_type": "display_data"
    }
   ],
   "source": [
    "males = features_full[features_full.Gender==1].shape[0]\n",
    "females = features_full[features_full.Gender==0].shape[0]\n",
    "\n",
    "X = pd.DataFrame(features_full.groupby(['Gender', 'Dropout']).count().Course)\n",
    "\n",
    "print(X)\n",
    "\n",
    "plt.bar([0,1,2,3], X.Course/[females, females, males, males], color=['tab:blue','tab:orange','tab:blue','tab:orange'])\n",
    "plt.xticks([0,1,2,3],  labels=['Female, no', 'Female, yes','Male, no', 'Male, yes']);"
   ]
  },
  {
   "cell_type": "code",
   "execution_count": 13,
   "id": "zYBLDhrCDEI6",
   "metadata": {
    "colab": {
     "base_uri": "https://localhost:8080/",
     "height": 534
    },
    "id": "zYBLDhrCDEI6",
    "outputId": "4aff4243-5c11-46f3-9842-d0206b0e852e"
   },
   "outputs": [
    {
     "name": "stdout",
     "output_type": "stream",
     "text": [
      "                       Course\n",
      "is_portuguese Dropout        \n",
      "0             0            78\n",
      "              1            32\n",
      "1             0          2925\n",
      "              1          1389\n"
     ]
    },
    {
     "data": {
      "image/png": "[encoded data removed]",
      "text/plain": [
       "<Figure size 640x480 with 1 Axes>"
      ]
     },
     "metadata": {},
     "output_type": "display_data"
    }
   ],
   "source": [
    "is_portuguese = features_full[features_full.is_portuguese==1].shape[0]\n",
    "is_not_portuguese = features_full[features_full.is_portuguese==0].shape[0]\n",
    "\n",
    "X = pd.DataFrame(features_full.groupby(['is_portuguese', 'Dropout']).count().Course)\n",
    "\n",
    "print(X)\n",
    "\n",
    "plt.bar([0,1,2,3], X.Course/[is_not_portuguese, is_not_portuguese, is_portuguese, is_portuguese], color=['tab:blue','tab:orange','tab:blue','tab:orange'])\n",
    "plt.xticks([0,1,2,3],  labels=['is_not_portuguese, no', 'is_not_portuguese, yes','is_portuguese, no', 'is_portuguese, yes']);"
   ]
  },
  {
   "cell_type": "markdown",
   "id": "d40d6383-50b7-4f59-a625-8ff5cf2e8b7d",
   "metadata": {
    "id": "d40d6383-50b7-4f59-a625-8ff5cf2e8b7d"
   },
   "source": [
    "# Try things out..."
   ]
  },
  {
   "cell_type": "code",
   "execution_count": 14,
   "id": "875cc84e-681e-40dd-a05f-666c42242998",
   "metadata": {
    "colab": {
     "base_uri": "https://localhost:8080/"
    },
    "id": "875cc84e-681e-40dd-a05f-666c42242998",
    "outputId": "7f448342-3166-4c85-e935-d21b135bd178"
   },
   "outputs": [
    {
     "name": "stderr",
     "output_type": "stream",
     "text": [
      "/var/folders/xd/wqwh0fmd6ss4z2j1hvdztrrm0000gn/T/ipykernel_98883/115757629.py:25: SettingWithCopyWarning: \n",
      "A value is trying to be set on a copy of a slice from a DataFrame.\n",
      "Try using .loc[row_indexer,col_indexer] = value instead\n",
      "\n",
      "See the caveats in the documentation: https://pandas.pydata.org/pandas-docs/stable/user_guide/indexing.html#returning-a-view-versus-a-copy\n",
      "  df['Dropout'] = data_y\n",
      "/var/folders/xd/wqwh0fmd6ss4z2j1hvdztrrm0000gn/T/ipykernel_98883/115757629.py:50: SettingWithCopyWarning: \n",
      "A value is trying to be set on a copy of a slice from a DataFrame.\n",
      "Try using .loc[row_indexer,col_indexer] = value instead\n",
      "\n",
      "See the caveats in the documentation: https://pandas.pydata.org/pandas-docs/stable/user_guide/indexing.html#returning-a-view-versus-a-copy\n",
      "  df['is_portuguese'] = is_portuguese_values\n",
      "/var/folders/xd/wqwh0fmd6ss4z2j1hvdztrrm0000gn/T/ipykernel_98883/115757629.py:53: SettingWithCopyWarning: \n",
      "A value is trying to be set on a copy of a slice from a DataFrame\n",
      "\n",
      "See the caveats in the documentation: https://pandas.pydata.org/pandas-docs/stable/user_guide/indexing.html#returning-a-view-versus-a-copy\n",
      "  df.drop(columns=[\"Nacionality\"], axis=1, inplace=True)\n",
      "/var/folders/xd/wqwh0fmd6ss4z2j1hvdztrrm0000gn/T/ipykernel_98883/115757629.py:62: SettingWithCopyWarning: \n",
      "A value is trying to be set on a copy of a slice from a DataFrame\n",
      "\n",
      "See the caveats in the documentation: https://pandas.pydata.org/pandas-docs/stable/user_guide/indexing.html#returning-a-view-versus-a-copy\n",
      "  df.drop('Dropout', axis=1, inplace=True)\n"
     ]
    }
   ],
   "source": [
    "features, features_full, labels, groups, features_np, features_protected, protected_cols = load_data()\n",
    "X_train, X_test, y_train, y_test, X_train_p, X_train_np, X_test_p, X_test_np = get_test_and_training_data(features, labels, protected_cols=protected_cols)"
   ]
  },
  {
   "cell_type": "code",
   "execution_count": 15,
   "id": "5Krw9kZL5JgR",
   "metadata": {
    "colab": {
     "base_uri": "https://localhost:8080/"
    },
    "id": "5Krw9kZL5JgR",
    "outputId": "e1b5439f-dd0c-425f-f0e5-e55b869c0402"
   },
   "outputs": [
    {
     "data": {
      "text/plain": [
       "Index(['Marital Status', 'Application mode', 'Application order', 'Course',\n",
       "       'Daytime/evening attendance', 'Previous qualification',\n",
       "       'Previous qualification (grade)', 'Admission grade', 'Displaced',\n",
       "       'Educational special needs', 'Debtor', 'Tuition fees up to date',\n",
       "       'International', 'Unemployment rate', 'Inflation rate', 'GDP',\n",
       "       'Mother's qualification', 'Father's qualification',\n",
       "       'Mother's occupation', 'Father's occupation', 'Scholarship holder',\n",
       "       'Age at enrollment'],\n",
       "      dtype='object')"
      ]
     },
     "execution_count": 15,
     "metadata": {},
     "output_type": "execute_result"
    }
   ],
   "source": [
    "features_np.columns"
   ]
  },
  {
   "cell_type": "code",
   "execution_count": 16,
   "id": "weodalU-UdUy",
   "metadata": {
    "colab": {
     "base_uri": "https://localhost:8080/"
    },
    "id": "weodalU-UdUy",
    "outputId": "7244bfcb-be01-471c-e609-de5ff44da7b5"
   },
   "outputs": [
    {
     "name": "stderr",
     "output_type": "stream",
     "text": [
      "/usr/local/lib/python3.11/site-packages/sklearn/utils/validation.py:1300: DataConversionWarning: A column-vector y was passed when a 1d array was expected. Please change the shape of y to (n_samples, ), for example using ravel().\n",
      "  y = column_or_1d(y, warn=True)\n",
      "/usr/local/lib/python3.11/site-packages/sklearn/utils/validation.py:1300: DataConversionWarning: A column-vector y was passed when a 1d array was expected. Please change the shape of y to (n_samples, ), for example using ravel().\n",
      "  y = column_or_1d(y, warn=True)\n",
      "/usr/local/lib/python3.11/site-packages/sklearn/utils/validation.py:1300: DataConversionWarning: A column-vector y was passed when a 1d array was expected. Please change the shape of y to (n_samples, ), for example using ravel().\n",
      "  y = column_or_1d(y, warn=True)\n",
      "/usr/local/lib/python3.11/site-packages/sklearn/utils/validation.py:1300: DataConversionWarning: A column-vector y was passed when a 1d array was expected. Please change the shape of y to (n_samples, ), for example using ravel().\n",
      "  y = column_or_1d(y, warn=True)\n",
      "/usr/local/lib/python3.11/site-packages/sklearn/utils/validation.py:1300: DataConversionWarning: A column-vector y was passed when a 1d array was expected. Please change the shape of y to (n_samples, ), for example using ravel().\n",
      "  y = column_or_1d(y, warn=True)\n"
     ]
    },
    {
     "data": {
      "text/plain": [
       "array([1., 0., 1., ..., 0., 0., 0.])"
      ]
     },
     "execution_count": 16,
     "metadata": {},
     "output_type": "execute_result"
    }
   ],
   "source": [
    "model = LogisticRegression(max_iter=5000, penalty=\"l2\", C=0.8497534359086438, tol=1e-4, solver=\"saga\")\n",
    "#logreg_preds = cross_validator(model, X_train, y_train, debias=False)\n",
    "logreg_preds = cross_validator(model, X_train, y_train, protected_cols, debias=False)\n",
    "logreg_preds"
   ]
  },
  {
   "cell_type": "code",
   "execution_count": 17,
   "id": "17a6bc5d-a6ca-46a1-ac2d-b5e41afb0a8b",
   "metadata": {
    "colab": {
     "base_uri": "https://localhost:8080/",
     "height": 860
    },
    "id": "17a6bc5d-a6ca-46a1-ac2d-b5e41afb0a8b",
    "outputId": "bd20fede-6b5f-43af-b9a4-9ae5f10279c5"
   },
   "outputs": [
    {
     "data": {
      "image/png": "[encoded data removed]",
      "text/plain": [
       "<Figure size 200x900 with 2 Axes>"
      ]
     },
     "metadata": {},
     "output_type": "display_data"
    }
   ],
   "source": [
    "plot_corr(features_full,protected_cols=protected_cols, show_protected_features=True)"
   ]
  }
 ],
 "metadata": {
  "colab": {
   "provenance": []
  },
  "kernelspec": {
   "display_name": "Python 3 (ipykernel)",
   "language": "python",
   "name": "python3"
  },
  "language_info": {
   "codemirror_mode": {
    "name": "ipython",
    "version": 3
   },
   "file_extension": ".py",
   "mimetype": "text/x-python",
   "name": "python",
   "nbconvert_exporter": "python",
   "pygments_lexer": "ipython3",
   "version": "3.11.6"
  }
 },
 "nbformat": 4,
 "nbformat_minor": 5
}
